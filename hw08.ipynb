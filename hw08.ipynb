{
 "cells": [
  {
   "cell_type": "markdown",
   "metadata": {},
   "source": [
    "# ДЗ №8, Волжина Елена\n",
    "[Neighbor joining](https://compscicenter.ru/learning/assignments/26347/)\n"
   ]
  },
  {
   "cell_type": "markdown",
   "metadata": {},
   "source": [
    "Напишите программу, строящую по данной матрице расстояний между последовательностями филогентическое дерево с помощью алгоритма\n",
    "![Algorithm](hw08_algo.png)"
   ]
  },
  {
   "cell_type": "code",
   "execution_count": 1,
   "metadata": {
    "collapsed": true
   },
   "outputs": [],
   "source": [
    "from collections import defaultdict\n",
    "from functools import lru_cache\n",
    "\n",
    "from ete3 import Tree, TreeStyle"
   ]
  },
  {
   "cell_type": "code",
   "execution_count": 2,
   "metadata": {
    "collapsed": false
   },
   "outputs": [],
   "source": [
    "class NJTree(object):\n",
    "    def __init__(self, distances):\n",
    "        # self.dist = defaultdict(dict)\n",
    "        self.dist = defaultdict(dict)\n",
    "        \n",
    "        for node1 in distances:\n",
    "            for node2 in distances[node1]:\n",
    "                self.dist[node1][node2] = self.dist[node2][node1] = distances[node1][node2]\n",
    "        \n",
    "        self.nodes = set(node for node in self.dist)\n",
    "    \n",
    "    @property\n",
    "    def N(self):\n",
    "        return len(self.nodes)\n",
    "\n",
    "    def calculate_M(self):\n",
    "        result, N = {}, self.N\n",
    "        for node in self.nodes:\n",
    "            dist_sum = sum(self.dist[node][other_node] for other_node in self.nodes - {node})\n",
    "            result[node] = dist_sum / (self.N - 2)\n",
    "        return result\n",
    "    \n",
    "    def join_nodes(self, a, b, M):\n",
    "        d_u_a = (self.dist[a][b] + M[a] - M[b]) / 2\n",
    "        d_u_b = (self.dist[a][b] + M[b] - M[a]) / 2\n",
    "        \n",
    "        u = '({}:{}, {}:{})'.format(a, d_u_a, b, d_u_b)\n",
    "        \n",
    "        self.nodes -= {a, b}\n",
    "        for node in self.nodes:\n",
    "            d_u_x = (self.dist[b][node] + self.dist[a][node] - self.dist[a][b]) / 2\n",
    "            self.dist[node][u] = self.dist[u][node] = d_u_x\n",
    "        \n",
    "        self.nodes.add(u)\n",
    "    \n",
    "    def process_NJ_step(self):\n",
    "        assert self.N > 2, 'Tree must have >= 3 nodes'\n",
    "        M = self.calculate_M()\n",
    "        \n",
    "        # find (a, b) with minimum D(a, b) - M(a) - M(b)\n",
    "        min_a, min_b, min_value = None, None, None\n",
    "        for a in self.nodes:\n",
    "            for b in self.nodes - {a}:\n",
    "                value = self.dist[a][b] - M[a] - M[b]\n",
    "                if min_value is None or value < min_value:\n",
    "                    min_a, min_b, min_value = a, b, value\n",
    "        \n",
    "        # join optimal neighbors\n",
    "        self.join_nodes(min_a, min_b, M)\n",
    "        \n",
    "    def process_NJ(self):\n",
    "        while self.N >= 3:\n",
    "            self.process_NJ_step()\n",
    "        \n",
    "        a, b = self.nodes\n",
    "        d_a_b = self.dist[a][b]\n",
    "        return '({}:{}, {}:{});'.format(a, d_a_b / 2, b, d_a_b / 2)"
   ]
  },
  {
   "cell_type": "markdown",
   "metadata": {},
   "source": [
    "![Example](hw08_example.png)"
   ]
  },
  {
   "cell_type": "code",
   "execution_count": null,
   "metadata": {
    "collapsed": false
   },
   "outputs": [
    {
     "name": "stdout",
     "output_type": "stream",
     "text": [
      "((((C:2.0, (B:4.0, A:1.0):1.0):1.0, F:5.0):1.0, D:3.0):1.0, E:1.0);\n"
     ]
    }
   ],
   "source": [
    "distances = defaultdict(dict, {\n",
    "        'B': {'A': 5},\n",
    "        'C': {'A': 4, 'B': 7},\n",
    "        'D': {'A': 7, 'B': 10, 'C': 7},\n",
    "        'E': {'A': 6, 'B':  9, 'C': 6, 'D': 5},\n",
    "        'F': {'A': 8, 'B': 11, 'C': 8, 'D': 9, 'E': 8}\n",
    "    })\n",
    "\n",
    "nj_tree = NJTree(distances)\n",
    "newick = nj_tree.process_NJ()\n",
    "print(newick)"
   ]
  },
  {
   "cell_type": "code",
   "execution_count": null,
   "metadata": {
    "collapsed": false
   },
   "outputs": [],
   "source": [
    "tree = Tree(newick)\n",
    "\n",
    "tree_style = TreeStyle()\n",
    "tree_style.show_leaf_name = True\n",
    "tree_style.show_branch_length = True\n",
    "\n",
    "\n",
    "tree.img_style[\"size\"] = 0   # hide 'root'\n",
    "tree.show(tree_style=tree_style)"
   ]
  },
  {
   "cell_type": "code",
   "execution_count": null,
   "metadata": {
    "collapsed": false
   },
   "outputs": [],
   "source": []
  }
 ],
 "metadata": {
  "kernelspec": {
   "display_name": "Python 3",
   "language": "python",
   "name": "python3"
  },
  "language_info": {
   "codemirror_mode": {
    "name": "ipython",
    "version": 3
   },
   "file_extension": ".py",
   "mimetype": "text/x-python",
   "name": "python",
   "nbconvert_exporter": "python",
   "pygments_lexer": "ipython3",
   "version": "3.5.0+"
  }
 },
 "nbformat": 4,
 "nbformat_minor": 0
}
