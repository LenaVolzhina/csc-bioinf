{
 "cells": [
  {
   "cell_type": "markdown",
   "metadata": {},
   "source": [
    "# ДЗ №5, Волжина Елена\n",
    "[Афинные гэпы](https://compscicenter.ru/learning/assignments/24211/)"
   ]
  },
  {
   "cell_type": "markdown",
   "metadata": {},
   "source": [
    "В выравнивании вместо штрафа за гэп -d использовать штраф -p-ld (p и d задаются вами) для гэпа длины l."
   ]
  },
  {
   "cell_type": "code",
   "execution_count": 2,
   "metadata": {
    "collapsed": true
   },
   "outputs": [],
   "source": [
    "from collections import defaultdict\n",
    "\n",
    "test1 = True\n",
    "\n",
    "if test1:\n",
    "    # http://www.bioinf.uni-freiburg.de/Lehre/Courses/2014_SS/V_Bioinformatik_1/gap-penalty-gotoh.pdf\n",
    "    M = 0            # match\n",
    "    MM = -1          # mismatch\n",
    "    R, S = -4, -1    # gap\n",
    "    string1, string2 = \"CC\", \"ACCT\"\n",
    "else:\n",
    "    # http://pages.cs.wisc.edu/~bsettles/ibs08/lectures/02-alignment.pdf\n",
    "    M = 1            # match\n",
    "    MM = -1          # mismatch\n",
    "    R, S = -3, -1    # gap\n",
    "    string1, string2 = \"AAT\", \"ACACT\"\n",
    "\n",
    "M, MM = 0, -1\n",
    "R, S = -4, -1\n",
    "string1, string2 = \"CCAG\", \"ACCT\""
   ]
  },
  {
   "cell_type": "markdown",
   "metadata": {},
   "source": [
    "![Algorithm](hw5_algo.jpg)"
   ]
  },
  {
   "cell_type": "code",
   "execution_count": 3,
   "metadata": {
    "collapsed": false
   },
   "outputs": [],
   "source": [
    "class Layer(object):\n",
    "    MAIN = 0      # diagonal moves\n",
    "    LOWER = -1    # horizontal moves\n",
    "    UPPER = 1     # vertical moves\n",
    "    \n",
    "    CHOICES = [LOWER, UPPER, MAIN]     # order IS important\n",
    "    NAMES = {LOWER: 'lower', UPPER: 'upper', MAIN: 'main'}\n",
    "\n",
    "    \n",
    "class Position(object):\n",
    "    def __init__(self, layer, n_row, n_col):\n",
    "        assert layer in Layer.CHOICES, \"Incorrect layer!\"\n",
    "        assert n_row >= 0 and n_col >= 0, \"Negative indices!\"\n",
    "        self.layer = layer\n",
    "        self.n_row = n_row\n",
    "        self.n_col = n_col\n",
    "        self.data = (self.layer, self.n_row, self.n_col)\n",
    "    \n",
    "    def __str__(self):\n",
    "        return str((Layer.NAMES[self.layer], self.n_row, self.n_col))\n",
    "    \n",
    "    def __repr__(self):\n",
    "        return str(self)\n",
    "    \n",
    "    def __hash__(self):\n",
    "        return hash(self.data)\n",
    "\n",
    "    def __eq__(self, other):\n",
    "        return self.data == other.data\n",
    "\n",
    "    def __ne__(self, other):\n",
    "        return not(self == other)\n",
    "    \n",
    "\n",
    "def align(s1, s2):\n",
    "    assert s1 and s2, \"one of strings is empty!\"\n",
    "    \n",
    "    n, m = len(s1), len(s2)\n",
    "    weights = defaultdict(lambda: None)\n",
    "    sources = defaultdict(list)\n",
    "    \n",
    "    weights[Position(Layer.MAIN, 0, 0)] = 0\n",
    "    \n",
    "    # first row\n",
    "    for n_col in range(1, m + 1):\n",
    "        position = Position(Layer.MAIN, 0, n_col)\n",
    "        weights[position] = R + n_col * S\n",
    "        sources[position] = [Position(Layer.MAIN, 0, n_col - 1)]\n",
    "        \n",
    "    # first column\n",
    "    for n_row in range(1, n + 1):\n",
    "        position = Position(Layer.MAIN, n_row, 0)\n",
    "        weights[position] = R + n_row * S\n",
    "        sources[position] = [Position(Layer.MAIN, n_row - 1, 0)]\n",
    "\n",
    "    # get possible ways to (n_row, n_col) at certain layer\n",
    "    def get_ways(position):\n",
    "        layer, n_row, n_col = position.layer, position.n_row, position.n_col\n",
    "        if layer == Layer.MAIN:       # diagonal\n",
    "            diff = M if s1[n_row - 1] == s2[n_col - 1] else MM\n",
    "            return [\n",
    "                (Position(Layer.MAIN, n_row - 1, n_col - 1), diff),\n",
    "                (Position(Layer.UPPER, n_row, n_col), 0),\n",
    "                (Position(Layer.LOWER, n_row, n_col), 0),\n",
    "            ]\n",
    "        elif layer == Layer.LOWER:   # horizontal\n",
    "            return [\n",
    "                (Position(Layer.LOWER, n_row, n_col - 1), S),\n",
    "                (Position(Layer.MAIN, n_row, n_col - 1), (R + S)),\n",
    "            ]\n",
    "        else:                       # vertical\n",
    "            return [\n",
    "                (Position(Layer.UPPER, n_row - 1, n_col), S),\n",
    "                (Position(Layer.MAIN, n_row - 1, n_col), (R + S)),\n",
    "            ]\n",
    "\n",
    "    # dynamically fill the rest\n",
    "    def process(n_row, n_col):\n",
    "        DEBUG = False\n",
    "        for layer in Layer.CHOICES:\n",
    "            position = Position(layer, n_row, n_col)\n",
    "            for source, diff in get_ways(position):\n",
    "                source_weight = weights[source]\n",
    "                if source_weight is None:\n",
    "                    continue\n",
    "                    \n",
    "                new_weight = source_weight + diff\n",
    "                current_weight = weights[position]\n",
    "                \n",
    "                if current_weight is None or current_weight < new_weight:\n",
    "                    weights[position] = new_weight\n",
    "                    sources[position] = [source]\n",
    "                elif current_weight == new_weight:\n",
    "                    sources[position].append(source)\n",
    "\n",
    "                if DEBUG:\n",
    "                    print(position, 'from', source, source_weight, '+', diff, '=', new_weight)\n",
    "            if DEBUG: print('-' * 40)\n",
    "    \n",
    "    for k in range(1, min(n, m) + 1):\n",
    "        process(k, k)\n",
    "        for n_row in range(k + 1, n + 1):\n",
    "            process(n_row, k)\n",
    "        for n_col in range(k + 1, m + 1):\n",
    "            process(k, n_col)\n",
    "        \n",
    "    return weights, sources"
   ]
  },
  {
   "cell_type": "code",
   "execution_count": 4,
   "metadata": {
    "collapsed": false
   },
   "outputs": [],
   "source": [
    "alignment_weights, alignment_sources = align(string1, string2)"
   ]
  },
  {
   "cell_type": "code",
   "execution_count": 5,
   "metadata": {
    "collapsed": false
   },
   "outputs": [
    {
     "name": "stdout",
     "output_type": "stream",
     "text": [
      "WEIGHTS MATRIX\n",
      "Layer: lower\n",
      " --  --  --  --  --\n",
      " -- -10  -6  -7  -8\n",
      " -- -11 -11  -6  -7\n",
      " -- -12 -11 -11  -7\n",
      " -- -13 -13 -12 -12\n",
      "Layer: upper\n",
      " --  --  --  --  --\n",
      " -- -10 -11 -12 -13\n",
      " --  -6 -10 -11 -13\n",
      " --  -7  -6 -10 -12\n",
      " --  -8  -7  -7 -11\n",
      "Layer: main\n",
      "  0  -5  -6  -7  -8\n",
      " -5  -1  -5  -6  -8\n",
      " -6  -6  -1  -5  -7\n",
      " -7  -6  -6  -2  -6\n",
      " -8  -8  -7  -7  -3\n"
     ]
    }
   ],
   "source": [
    "print(\"WEIGHTS MATRIX\")\n",
    "for layer in Layer.CHOICES:\n",
    "    print(\"Layer:\", Layer.NAMES[layer])\n",
    "    values = [[alignment_weights[Position(layer, n_row, n_col)] for n_col in range(len(string2) + 1)]\n",
    "               for n_row in range(len(string1) + 1)]\n",
    "    print(\"\\n\".join(\" \".join((\"{: >3}\".format(x) if x is not None else \" --\") for x in row) \n",
    "                    for row in values))"
   ]
  },
  {
   "cell_type": "code",
   "execution_count": 6,
   "metadata": {
    "collapsed": false
   },
   "outputs": [],
   "source": [
    "def restore_paths(sources, source):\n",
    "    n_row, n_col = source.n_row, source.n_col\n",
    "    if sources[source]:\n",
    "        result = []\n",
    "        for old_source in sources[source]:\n",
    "            if source != old_source:            \n",
    "                paths = restore_paths(sources, old_source)\n",
    "                result.extend([p + [source] for p in paths])\n",
    "            else:\n",
    "                print(source, old_source)\n",
    "        return result\n",
    "    else:\n",
    "        return [[source]]\n",
    "\n",
    "\n",
    "alignment_paths = restore_paths(alignment_sources, Position(Layer.MAIN, len(string1), len(string2)))"
   ]
  },
  {
   "cell_type": "code",
   "execution_count": 6,
   "metadata": {
    "collapsed": false
   },
   "outputs": [
    {
     "name": "stdout",
     "output_type": "stream",
     "text": [
      "GLOBAL ALIGNMENTS:\n",
      "['-', '-', 'C', 'C']\n",
      "['A', 'C', 'C', 'T']\n",
      "\n",
      "\n",
      "['C', 'C', '-', '-']\n",
      "['A', 'C', 'C', 'T']\n",
      "\n",
      "\n"
     ]
    }
   ],
   "source": [
    "def print_alignments(paths):\n",
    "    for path in paths:\n",
    "        res1, res2 = [], []\n",
    "        for source, target in zip(path, path[1:]):\n",
    "            r1, c1, r2, c2 = source.n_row, source.n_col, target.n_row, target.n_col\n",
    "            if r1 + 1 == r2 and c1 + 1 == c2:\n",
    "                # mis(match)\n",
    "                res1.append(string1[r2 - 1])\n",
    "                res2.append(string2[c2 - 1])\n",
    "            elif r1 + 1 == r2 and c1 == c2:\n",
    "                # down\n",
    "                res1.append(string1[r2 - 1])\n",
    "                res2.append(\"-\")\n",
    "            elif r1 == r2 and c1 + 1 == c2:\n",
    "                # right\n",
    "                res1.append(\"-\")\n",
    "                res2.append(string2[c2 - 1])\n",
    "        print(res1, \"\\n\", res2, \"\\n\\n\", sep=\"\")\n",
    "\n",
    "print(\"GLOBAL ALIGNMENTS:\")\n",
    "print_alignments(alignment_paths)"
   ]
  },
  {
   "cell_type": "code",
   "execution_count": null,
   "metadata": {
    "collapsed": true
   },
   "outputs": [],
   "source": []
  },
  {
   "cell_type": "code",
   "execution_count": null,
   "metadata": {
    "collapsed": false
   },
   "outputs": [],
   "source": []
  }
 ],
 "metadata": {
  "kernelspec": {
   "display_name": "Python 3",
   "language": "python",
   "name": "python3"
  },
  "language_info": {
   "codemirror_mode": {
    "name": "ipython",
    "version": 3
   },
   "file_extension": ".py",
   "mimetype": "text/x-python",
   "name": "python",
   "nbconvert_exporter": "python",
   "pygments_lexer": "ipython3",
   "version": "3.5.0+"
  }
 },
 "nbformat": 4,
 "nbformat_minor": 0
}
