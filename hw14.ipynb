{
 "cells": [
  {
   "cell_type": "markdown",
   "metadata": {},
   "source": [
    "# ДЗ № 14, Волжина Лена\n",
    "\n",
    "Реализуйте алгоритм Forward-Backward для выравнивания двух последовательностей. [Задание](https://compscicenter.ru/learning/assignments/27582/)"
   ]
  },
  {
   "cell_type": "code",
   "execution_count": 7,
   "metadata": {
    "collapsed": false
   },
   "outputs": [],
   "source": [
    "from collections import defaultdict\n",
    "from itertools import product\n"
   ]
  },
  {
   "cell_type": "markdown",
   "metadata": {},
   "source": [
    "![FB_alignment](hw14_algo.png)"
   ]
  },
  {
   "cell_type": "code",
   "execution_count": 2,
   "metadata": {
    "collapsed": true
   },
   "outputs": [],
   "source": [
    "d = d1 = d2 = 1 / 3  # can start from any point\n",
    "r1 = r2 = 0  # no different gaps in row\n",
    "t = 0.1  # has it some meaning?\n",
    "e = e1 = e2 = 1 / 2"
   ]
  },
  {
   "cell_type": "code",
   "execution_count": 3,
   "metadata": {
    "collapsed": false
   },
   "outputs": [],
   "source": [
    "transitions = {\n",
    "    'M': {'X': d1, 'Y': d2, 'M': 1 - d1 - d2 - t, 'E': t},\n",
    "    'X': {'X': e1, 'Y': r2, 'M': 1 - e1 - r2 - t, 'E': t},\n",
    "    'Y': {'X': r1, 'Y': e2, 'M': 1 - e2 - r1 - t, 'E': t},\n",
    "    'E': {'X': 0,  'Y': 0,  'M': 0, 'E': 0},\n",
    "}\n",
    "pi = {'X': d1, 'Y': d2, 'M': 1 - d1 - d2}\n",
    "\n",
    "chars = 'ATGC'\n",
    "alpha = 1/8      # probability of some mismatch\n",
    "pam = {(c1, c2): 1 - alpha * (len(chars) - 1) if c1 == c2 else alpha   # match or mismatch\n",
    "       for c1 in chars for c2 in chars}\n",
    "gaps = {c: 1 / len(chars) for c in chars}\n",
    "\n",
    "s1, s2 = 'AGA', 'AGAGA'"
   ]
  },
  {
   "cell_type": "code",
   "execution_count": null,
   "metadata": {
    "collapsed": true
   },
   "outputs": [],
   "source": []
  },
  {
   "cell_type": "code",
   "execution_count": 22,
   "metadata": {
    "collapsed": false
   },
   "outputs": [],
   "source": [
    "class FBAligner(object):\n",
    "    def __init__(self, transition, match, gap):\n",
    "        self.transition = transition\n",
    "        self.match = match\n",
    "        self.gap = gap\n",
    "        self.states = ['M', 'X', 'Y']\n",
    "\n",
    "    def calculate_alphas(self, s1, s2):\n",
    "        alphas = defaultdict(dict)\n",
    "        n, m = len(s1), len(s2)\n",
    "        \n",
    "        # init alphas\n",
    "        alphas[(0, 0)] = {'M': 1, 'X': 0, 'Y': 0}\n",
    "        for i in range(n): \n",
    "            alphas[(i, -1)] = {state: 0 for state in self.states}\n",
    "        for j in range(m): \n",
    "            alphas[(-1, j)] = {state: 0 for state in self.states}\n",
    "        \n",
    "        # calculate alphas\n",
    "        for i, j in product(range(n), range(m)):\n",
    "            if i == j == 0:\n",
    "                continue\n",
    "\n",
    "            c1, c2 = s1[i], s2[j]\n",
    "            pij = self.match[(c1, c2)]\n",
    "            qi, qj = self.gap[c1], self.gap[c2]\n",
    "            \n",
    "            alphas[(i, j)] = {\n",
    "                'M': pij * ((1 - 2 * d - t) * alphas[(i - 1, j - 1)]['M'] + \n",
    "                            (1 - e - t) * (alphas[(i - 1, j - 1)]['X'] + \n",
    "                                           alphas[(i - 1, j - 1)]['Y'])),\n",
    "                'X': qi * (d * alphas[(i - 1, j)]['M'] + e * alphas[(i - 1, j)]['X']),\n",
    "                'Y': qj * (d * alphas[(i, j - 1)]['M'] + e * alphas[(i, j - 1)]['Y']) #???\n",
    "            }\n",
    "        \n",
    "        return alphas\n",
    "       \n",
    "    def calculate_betas(self, s1, s2):\n",
    "        betas = defaultdict(dict)\n",
    "        n, m = len(s1), len(s2)\n",
    "        \n",
    "        # init betas\n",
    "        betas[(n - 1, m - 1)] = {state: t for state in self.states}\n",
    "        for i in range(n): \n",
    "            betas[(i, m)] = {state: 0 for state in self.states}\n",
    "        for j in range(m): \n",
    "            betas[(n, j)] = {state: 0 for state in self.states}\n",
    "            \n",
    "        # calculate betas\n",
    "        for i, j in reversed(list(product(range(n), range(m)))):\n",
    "            if i == n - 1 and j == m - 1:\n",
    "                continue\n",
    "            \n",
    "            get_or_None = lambda xs, idx: xs[idx] if len(xs) > idx else None\n",
    "            c1, c2 = get_or_None(s1, i + 1), get_or_None(s2, j + 1)\n",
    "            pij = self.match.get((c1, c2), 100500)\n",
    "            qi, qj = self.gap.get(c1, 3030), self.gap.get(c2, 4040)\n",
    "            \n",
    "            #if pij * qi * qj > 1:\n",
    "            #    print(i, j, pij, qi, qj)\n",
    "            betas[(i, j)] = {\n",
    "                'M': ((1 - 2 * d - t) * pij * betas[(i + 1, j + 1)]['M'] +\n",
    "                      d * (qi * betas[(i + 1, j)]['X'] + qj * betas[(i, j + 1)]['Y'])),\n",
    "                'X': ((1 - e - t) * pij * betas[(i + 1, j + 1)]['M'] +\n",
    "                      e * qi * betas[(i + 1, j)]['X']),\n",
    "                'Y': ((1 - e - t) * pij * betas[(i + 1, j + 1)]['M'] +\n",
    "                      e * qj * betas[(i, j + 1)]['Y']),\n",
    "            }\n",
    "            \n",
    "        return betas\n",
    "        \n",
    "    def process(self, s1, s2):\n",
    "        n, m = len(s1), len(s2)\n",
    "        alphas = self.calculate_alphas(s1, s2)\n",
    "        betas = self.calculate_betas(s1, s2)\n",
    "        \n",
    "        # calculate alignment probabilities\n",
    "        p_sum_fwd = sum(alphas[(n - 1, m - 1)].values()) * t\n",
    "        p_sum_bwd = 0\n",
    "        c1, c2 = s1[0], s2[0]\n",
    "        pij = self.match[(c1, c2)]\n",
    "        qi, qj = self.gap[c1], self.gap[c2]\n",
    "        for state in self.states:\n",
    "            p_open = pij if state == 'M' else (qi if state == 'X' else qj)\n",
    "            p_sum_bwd += betas[(0, 0)][state] * (1 / 3) * p_open\n",
    "        \n",
    "        print(p_sum_fwd, p_sum_bwd)\n",
    "        \n",
    "        # calculate r\n",
    "        result = []\n",
    "        for i in range(n):\n",
    "            row = [alphas[(i, j)]['M'] * betas[(i, j)]['M'] / p_sum_fwd\n",
    "                   for j in range(m)]\n",
    "            result.append(row)\n",
    "            \n",
    "        return result"
   ]
  },
  {
   "cell_type": "code",
   "execution_count": 23,
   "metadata": {
    "collapsed": false
   },
   "outputs": [
    {
     "ename": "KeyError",
     "evalue": "'X'",
     "output_type": "error",
     "traceback": [
      "\u001b[1;31m---------------------------------------------------------------------------\u001b[0m",
      "\u001b[1;31mKeyError\u001b[0m                                  Traceback (most recent call last)",
      "\u001b[1;32m<ipython-input-23-1641475f5fb8>\u001b[0m in \u001b[0;36m<module>\u001b[1;34m()\u001b[0m\n\u001b[0;32m      1\u001b[0m \u001b[0maligner\u001b[0m \u001b[1;33m=\u001b[0m \u001b[0mFBAligner\u001b[0m\u001b[1;33m(\u001b[0m\u001b[0mtransitions\u001b[0m\u001b[1;33m,\u001b[0m \u001b[0mpam\u001b[0m\u001b[1;33m,\u001b[0m \u001b[0mgaps\u001b[0m\u001b[1;33m)\u001b[0m\u001b[1;33m\u001b[0m\u001b[0m\n\u001b[1;32m----> 2\u001b[1;33m \u001b[0malphas\u001b[0m\u001b[1;33m,\u001b[0m \u001b[0mbetas\u001b[0m \u001b[1;33m=\u001b[0m \u001b[0maligner\u001b[0m\u001b[1;33m.\u001b[0m\u001b[0mcalculate_alphas\u001b[0m\u001b[1;33m(\u001b[0m\u001b[0ms1\u001b[0m\u001b[1;33m,\u001b[0m \u001b[0ms2\u001b[0m\u001b[1;33m)\u001b[0m\u001b[1;33m,\u001b[0m \u001b[0maligner\u001b[0m\u001b[1;33m.\u001b[0m\u001b[0mcalculate_betas\u001b[0m\u001b[1;33m(\u001b[0m\u001b[0ms1\u001b[0m\u001b[1;33m,\u001b[0m \u001b[0ms2\u001b[0m\u001b[1;33m)\u001b[0m\u001b[1;33m\u001b[0m\u001b[0m\n\u001b[0m\u001b[0;32m      3\u001b[0m \u001b[0mres\u001b[0m \u001b[1;33m=\u001b[0m \u001b[0maligner\u001b[0m\u001b[1;33m.\u001b[0m\u001b[0mprocess\u001b[0m\u001b[1;33m(\u001b[0m\u001b[0ms1\u001b[0m\u001b[1;33m,\u001b[0m \u001b[0ms2\u001b[0m\u001b[1;33m)\u001b[0m\u001b[1;33m\u001b[0m\u001b[0m\n\u001b[0;32m      4\u001b[0m \u001b[1;33m\u001b[0m\u001b[0m\n\u001b[0;32m      5\u001b[0m \u001b[0mprint\u001b[0m\u001b[1;33m(\u001b[0m\u001b[1;34m' '\u001b[0m \u001b[1;33m*\u001b[0m \u001b[1;36m8\u001b[0m \u001b[1;33m+\u001b[0m \u001b[1;33m(\u001b[0m\u001b[1;34m' '\u001b[0m \u001b[1;33m*\u001b[0m \u001b[1;36m9\u001b[0m\u001b[1;33m)\u001b[0m\u001b[1;33m.\u001b[0m\u001b[0mjoin\u001b[0m\u001b[1;33m(\u001b[0m\u001b[0ms2\u001b[0m\u001b[1;33m)\u001b[0m\u001b[1;33m)\u001b[0m\u001b[1;33m\u001b[0m\u001b[0m\n",
      "\u001b[1;32m<ipython-input-22-bb303913f3c7>\u001b[0m in \u001b[0;36mcalculate_betas\u001b[1;34m(self, s1, s2)\u001b[0m\n\u001b[0;32m     78\u001b[0m                 \u001b[0mprocess\u001b[0m\u001b[1;33m(\u001b[0m\u001b[0mn\u001b[0m \u001b[1;33m-\u001b[0m \u001b[0mk\u001b[0m \u001b[1;33m-\u001b[0m \u001b[1;36m1\u001b[0m\u001b[1;33m,\u001b[0m \u001b[0mm\u001b[0m \u001b[1;33m-\u001b[0m \u001b[0mk\u001b[0m \u001b[1;33m-\u001b[0m \u001b[1;36m1\u001b[0m\u001b[1;33m)\u001b[0m\u001b[1;33m\u001b[0m\u001b[0m\n\u001b[0;32m     79\u001b[0m             \u001b[1;32mfor\u001b[0m \u001b[0mn_row\u001b[0m \u001b[1;32min\u001b[0m \u001b[0mrange\u001b[0m\u001b[1;33m(\u001b[0m\u001b[0mn\u001b[0m \u001b[1;33m-\u001b[0m \u001b[0mk\u001b[0m \u001b[1;33m-\u001b[0m \u001b[1;36m1\u001b[0m\u001b[1;33m)\u001b[0m\u001b[1;33m:\u001b[0m\u001b[1;33m\u001b[0m\u001b[0m\n\u001b[1;32m---> 80\u001b[1;33m                 \u001b[0mprocess\u001b[0m\u001b[1;33m(\u001b[0m\u001b[0mn_row\u001b[0m\u001b[1;33m,\u001b[0m \u001b[0mm\u001b[0m \u001b[1;33m-\u001b[0m \u001b[0mk\u001b[0m \u001b[1;33m-\u001b[0m \u001b[1;36m1\u001b[0m\u001b[1;33m)\u001b[0m\u001b[1;33m\u001b[0m\u001b[0m\n\u001b[0m\u001b[0;32m     81\u001b[0m             \u001b[1;32mfor\u001b[0m \u001b[0mn_col\u001b[0m \u001b[1;32min\u001b[0m \u001b[0mrange\u001b[0m\u001b[1;33m(\u001b[0m\u001b[0mm\u001b[0m \u001b[1;33m-\u001b[0m \u001b[0mk\u001b[0m \u001b[1;33m-\u001b[0m \u001b[1;36m1\u001b[0m\u001b[1;33m)\u001b[0m\u001b[1;33m:\u001b[0m\u001b[1;33m\u001b[0m\u001b[0m\n\u001b[0;32m     82\u001b[0m                 \u001b[0mprocess\u001b[0m\u001b[1;33m(\u001b[0m\u001b[0mn\u001b[0m \u001b[1;33m-\u001b[0m \u001b[0mk\u001b[0m \u001b[1;33m-\u001b[0m \u001b[1;36m1\u001b[0m\u001b[1;33m,\u001b[0m \u001b[0mn_col\u001b[0m\u001b[1;33m)\u001b[0m\u001b[1;33m\u001b[0m\u001b[0m\n",
      "\u001b[1;32m<ipython-input-22-bb303913f3c7>\u001b[0m in \u001b[0;36mprocess\u001b[1;34m(i, j)\u001b[0m\n\u001b[0;32m     63\u001b[0m             betas[(i, j)] = {\n\u001b[0;32m     64\u001b[0m                 'M': ((1 - 2 * d - t) * pij * betas[(i + 1, j + 1)]['M'] +\n\u001b[1;32m---> 65\u001b[1;33m                       d * (qi * betas[(i + 1, j)]['X'] + qj * betas[(i, j + 1)]['Y'])),\n\u001b[0m\u001b[0;32m     66\u001b[0m                 'X': ((1 - e - t) * pij * betas[(i + 1, j + 1)]['M'] +\n\u001b[0;32m     67\u001b[0m                       e * qi * betas[(i + 1, j)]['X']),\n",
      "\u001b[1;31mKeyError\u001b[0m: 'X'"
     ]
    }
   ],
   "source": [
    "aligner = FBAligner(transitions, pam, gaps)\n",
    "alphas, betas = aligner.calculate_alphas(s1, s2), aligner.calculate_betas(s1, s2)\n",
    "res = aligner.process(s1, s2)\n",
    "\n",
    "print(' ' * 8 + (' ' * 9).join(s2))\n",
    "for i in range(len(s1)):\n",
    "    print(s1[i], end='    ')\n",
    "    print('    '.join('{:.4f}'.format(v) for v in res[i]))"
   ]
  },
  {
   "cell_type": "code",
   "execution_count": null,
   "metadata": {
    "collapsed": false
   },
   "outputs": [],
   "source": []
  },
  {
   "cell_type": "code",
   "execution_count": null,
   "metadata": {
    "collapsed": false
   },
   "outputs": [],
   "source": []
  }
 ],
 "metadata": {
  "kernelspec": {
   "display_name": "Python 3",
   "language": "python",
   "name": "python3"
  },
  "language_info": {
   "codemirror_mode": {
    "name": "ipython",
    "version": 3
   },
   "file_extension": ".py",
   "mimetype": "text/x-python",
   "name": "python",
   "nbconvert_exporter": "python",
   "pygments_lexer": "ipython3",
   "version": "3.5.0+"
  }
 },
 "nbformat": 4,
 "nbformat_minor": 0
}
