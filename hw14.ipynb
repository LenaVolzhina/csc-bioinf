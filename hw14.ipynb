{
 "cells": [
  {
   "cell_type": "markdown",
   "metadata": {},
   "source": [
    "# ДЗ № 14, Волжина Лена\n",
    "\n",
    "Реализуйте алгоритм Forward-Backward для выравнивания двух последовательностей. [Задание](https://compscicenter.ru/learning/assignments/27582/)"
   ]
  },
  {
   "cell_type": "code",
   "execution_count": 1,
   "metadata": {
    "collapsed": false
   },
   "outputs": [],
   "source": [
    "from collections import defaultdict\n",
    "from itertools import product\n"
   ]
  },
  {
   "cell_type": "markdown",
   "metadata": {},
   "source": [
    "![FB_alignment](hw14_algo.png)"
   ]
  },
  {
   "cell_type": "code",
   "execution_count": 18,
   "metadata": {
    "collapsed": true
   },
   "outputs": [],
   "source": [
    "d = d1 = d2 = 1 / 3  # can start from any point\n",
    "r1 = r2 = 0  # no different gaps in row\n",
    "t = 0.1  # has it some meaning?\n",
    "e = e1 = e2 = 1 / 4"
   ]
  },
  {
   "cell_type": "code",
   "execution_count": 19,
   "metadata": {
    "collapsed": false
   },
   "outputs": [],
   "source": [
    "transitions = {\n",
    "    'M': {'X': d1, 'Y': d2, 'M': 1 - d1 - d2 - t, 'E': t},\n",
    "    'X': {'X': e1, 'Y': r2, 'M': 1 - e1 - r2 - t, 'E': t},\n",
    "    'Y': {'X': r1, 'Y': e2, 'M': 1 - e2 - r1 - t, 'E': t},\n",
    "    'E': {'X': 0,  'Y': 0,  'M': 0, 'E': 0},\n",
    "}\n",
    "pi = {'X': d1, 'Y': d2, 'M': 1 - d1 - d2}\n",
    "\n",
    "chars = 'ATGC'\n",
    "alpha = 1/8      # probability of some mismatch\n",
    "pam = {(c1, c2): 1 - alpha * (len(chars) - 1) if c1 == c2 else alpha   # match or mismatch\n",
    "       for c1 in chars for c2 in chars}\n",
    "gaps = {c: 1 / len(chars) for c in chars}\n",
    "\n",
    "s1, s2 = 'AGA', 'AGAGA'"
   ]
  },
  {
   "cell_type": "code",
   "execution_count": null,
   "metadata": {
    "collapsed": true
   },
   "outputs": [],
   "source": []
  },
  {
   "cell_type": "code",
   "execution_count": 20,
   "metadata": {
    "collapsed": false
   },
   "outputs": [],
   "source": [
    "class FBAligner(object):\n",
    "    def __init__(self, transition, match, gap):\n",
    "        self.transition = transition\n",
    "        self.match = match\n",
    "        self.gap = gap\n",
    "        self.states = ['M', 'X', 'Y']\n",
    "\n",
    "    def calculate_alphas(self, s1, s2):\n",
    "        alphas = defaultdict(dict)\n",
    "        n, m = len(s1), len(s2)\n",
    "        \n",
    "        # init alphas\n",
    "        alphas[(0, 0)] = {'M': 1, 'X': 0, 'Y': 0}\n",
    "        for i in range(n): \n",
    "            alphas[(i, -1)] = {state: 0 for state in self.states}\n",
    "        for j in range(m): \n",
    "            alphas[(-1, j)] = {state: 0 for state in self.states}\n",
    "        \n",
    "        def process(i, j):\n",
    "            c1, c2 = s1[i], s2[j]\n",
    "            pij = self.match[(c1, c2)]\n",
    "            qi, qj = self.gap[c1], self.gap[c2]\n",
    "            \n",
    "            alphas[(i, j)] = {\n",
    "                'M': pij * ((1 - 2 * d - t) * alphas[(i - 1, j - 1)]['M'] + \n",
    "                            (1 - e - t) * (alphas[(i - 1, j - 1)]['X'] + \n",
    "                                           alphas[(i - 1, j - 1)]['Y'])),\n",
    "                'X': qi * (d * alphas[(i - 1, j)]['M'] + e * alphas[(i - 1, j)]['X']),\n",
    "                'Y': qj * (d * alphas[(i, j - 1)]['M'] + e * alphas[(i, j - 1)]['Y']) #???\n",
    "            }\n",
    "        \n",
    "        # calculate alphas\n",
    "        for k in range(min(n, m)):\n",
    "            if k != 0:\n",
    "                process(k, k)\n",
    "            for n_row in range(k + 1, n):\n",
    "                process(n_row, k)\n",
    "            for n_col in range(k + 1, m):\n",
    "                process(k, n_col)            \n",
    "        \n",
    "        return alphas\n",
    "       \n",
    "    def calculate_betas(self, s1, s2):\n",
    "        betas = defaultdict(dict)\n",
    "        n, m = len(s1), len(s2)\n",
    "        \n",
    "        # init betas\n",
    "        betas[(n - 1, m - 1)] = {state: t for state in self.states}\n",
    "        for i in range(n): \n",
    "            betas[(i, m)] = {state: 0 for state in self.states}\n",
    "        for j in range(m): \n",
    "            betas[(n, j)] = {state: 0 for state in self.states}\n",
    "            \n",
    "        def process(i, j):\n",
    "            get_or_None = lambda xs, idx: xs[idx] if len(xs) > idx else None\n",
    "            c1, c2 = get_or_None(s1, i + 1), get_or_None(s2, j + 1)\n",
    "            pij = self.match.get((c1, c2), 100500)\n",
    "            qi, qj = self.gap.get(c1, 3030), self.gap.get(c2, 4040)\n",
    "            \n",
    "            betas[(i, j)] = {\n",
    "                'M': ((1 - 2 * d - t) * pij * betas[(i + 1, j + 1)]['M'] +\n",
    "                      d * (qi * betas[(i + 1, j)]['X'] + qj * betas[(i, j + 1)]['Y'])),\n",
    "                'X': ((1 - e - t) * pij * betas[(i + 1, j + 1)]['M'] +\n",
    "                      e * qi * betas[(i + 1, j)]['X']),\n",
    "                'Y': ((1 - e - t) * pij * betas[(i + 1, j + 1)]['M'] +\n",
    "                      e * qj * betas[(i, j + 1)]['Y']),\n",
    "            }\n",
    "        \n",
    "        # calculate betas\n",
    "        for k in range(min(n, m)):\n",
    "            if k != 0:\n",
    "                process(n - k - 1, m - k - 1)\n",
    "            for n_row in reversed(range(n - k - 1)):\n",
    "                process(n_row, m - k - 1)\n",
    "            for n_col in reversed(range(m - k - 1)):\n",
    "                process(n - k - 1, n_col)\n",
    "        return betas\n",
    "        \n",
    "    def process(self, s1, s2):\n",
    "        n, m = len(s1), len(s2)\n",
    "        alphas = self.calculate_alphas(s1, s2)\n",
    "        betas = self.calculate_betas(s1, s2)\n",
    "        \n",
    "        # calculate alignment probabilities\n",
    "        p_sum_fwd = sum(alphas[(n - 1, m - 1)].values()) * t\n",
    "        p_sum_bwd = 0\n",
    "        c1, c2 = s1[0], s2[0]\n",
    "        pij = self.match[(c1, c2)]\n",
    "        qi, qj = self.gap[c1], self.gap[c2]\n",
    "        for state in self.states:\n",
    "            p_open = pij if state == 'M' else (qi if state == 'X' else qj)\n",
    "            p_sum_bwd += betas[(0, 0)][state] * (1 / 3) * p_open\n",
    "        \n",
    "        print(p_sum_fwd, p_sum_bwd)\n",
    "        \n",
    "        # calculate result\n",
    "        result = []\n",
    "        for i in range(n):\n",
    "            row = [alphas[(i, j)]['M'] * betas[(i, j)]['M'] / p_sum_fwd\n",
    "                   for j in range(m)]\n",
    "            result.append(row)\n",
    "            \n",
    "        return result"
   ]
  },
  {
   "cell_type": "code",
   "execution_count": 21,
   "metadata": {
    "collapsed": false
   },
   "outputs": [
    {
     "name": "stdout",
     "output_type": "stream",
     "text": [
      "0.00010602710865162038 4.8869992479865926e-05\n",
      "        A         G         A         G         A\n",
      "A    1.0000    0.0000    0.0000    0.0000    0.0000\n",
      "G    0.0000    0.4731    0.2317    0.2910    0.0021\n",
      "A    0.0000    0.0021    0.1045    0.0931    0.7982\n"
     ]
    }
   ],
   "source": [
    "aligner = FBAligner(transitions, pam, gaps)\n",
    "alphas, betas = aligner.calculate_alphas(s1, s2), aligner.calculate_betas(s1, s2)\n",
    "res = aligner.process(s1, s2)\n",
    "\n",
    "print(' ' * 8 + (' ' * 9).join(s2))\n",
    "for i in range(len(s1)):\n",
    "    print(s1[i], end='    ')\n",
    "    print('    '.join('{:.4f}'.format(v) for v in res[i]))"
   ]
  },
  {
   "cell_type": "code",
   "execution_count": 17,
   "metadata": {
    "collapsed": false
   },
   "outputs": [
    {
     "data": {
      "text/plain": [
       "defaultdict(dict,\n",
       "            {(-1, 0): {'M': 0, 'X': 0, 'Y': 0},\n",
       "             (-1, 1): {'M': 0, 'X': 0, 'Y': 0},\n",
       "             (-1, 2): {'M': 0, 'X': 0, 'Y': 0},\n",
       "             (-1, 3): {'M': 0, 'X': 0, 'Y': 0},\n",
       "             (-1, 4): {'M': 0, 'X': 0, 'Y': 0},\n",
       "             (0, -1): {'M': 0, 'X': 0, 'Y': 0},\n",
       "             (0, 0): {'M': 1, 'X': 0, 'Y': 0},\n",
       "             (0, 1): {'M': 0.0, 'X': 0.0, 'Y': 0.08333333333333333},\n",
       "             (0, 2): {'M': 0.0, 'X': 0.0, 'Y': 0.010416666666666666},\n",
       "             (0, 3): {'M': 0.0, 'X': 0.0, 'Y': 0.0013020833333333333},\n",
       "             (0, 4): {'M': 0.0, 'X': 0.0, 'Y': 0.00016276041666666666},\n",
       "             (1, -1): {'M': 0, 'X': 0, 'Y': 0},\n",
       "             (1, 0): {'M': 0.0, 'X': 0.08333333333333333, 'Y': 0.0},\n",
       "             (1, 1): {'M': 0.14583333333333334, 'X': 0.0, 'Y': 0.0},\n",
       "             (1, 2): {'M': 0.004166666666666667,\n",
       "              'X': 0.0,\n",
       "              'Y': 0.012152777777777778},\n",
       "             (1, 3): {'M': 0.0026041666666666665,\n",
       "              'X': 0.0,\n",
       "              'Y': 0.0018663194444444443},\n",
       "             (1, 4): {'M': 6.510416666666667e-05,\n",
       "              'X': 0.0,\n",
       "              'Y': 0.0004503038194444444},\n",
       "             (2, -1): {'M': 0, 'X': 0, 'Y': 0},\n",
       "             (2, 0): {'M': 0.0, 'X': 0.010416666666666666, 'Y': 0.0},\n",
       "             (2, 1): {'M': 0.004166666666666667,\n",
       "              'X': 0.012152777777777778,\n",
       "              'Y': 0.0},\n",
       "             (2, 2): {'M': 0.021267361111111112,\n",
       "              'X': 0.0003472222222222222,\n",
       "              'Y': 0.0003472222222222222},\n",
       "             (2, 3): {'M': 0.0007291666666666667,\n",
       "              'X': 0.00021701388888888888,\n",
       "              'Y': 0.0018156828703703705},\n",
       "             (2, 4): {'M': 0.0008463541666666667,\n",
       "              'X': 5.425347222222222e-06,\n",
       "              'Y': 0.0002877242476851852}})"
      ]
     },
     "execution_count": 17,
     "metadata": {},
     "output_type": "execute_result"
    }
   ],
   "source": [
    "alphas"
   ]
  },
  {
   "cell_type": "code",
   "execution_count": 22,
   "metadata": {
    "collapsed": false
   },
   "outputs": [
    {
     "data": {
      "text/plain": [
       "defaultdict(dict,\n",
       "            {(0, 0): {'M': 0.00010602710865162035,\n",
       "              'X': 0.0001399019029405382,\n",
       "              'Y': 0.00018147023518880206},\n",
       "             (0, 1): {'M': 0.0006206958912037037,\n",
       "              'X': 0.0003080376519097222,\n",
       "              'Y': 0.0006677381727430555},\n",
       "             (0, 2): {'M': 0.0022395833333333334,\n",
       "              'X': 0.005966796875,\n",
       "              'Y': 0.005966796875},\n",
       "             (0, 3): {'M': 0.003628472222222222,\n",
       "              'X': 0.0032161458333333334,\n",
       "              'Y': 0.0006770833333333334},\n",
       "             (0, 4): {'M': 0.0005208333333333333, 'X': 0.000390625, 'Y': 0.0},\n",
       "             (0, 5): {'M': 0, 'X': 0, 'Y': 0},\n",
       "             (1, 0): {'M': 3.5332573784722216e-05,\n",
       "              'X': 2.6448567708333334e-06,\n",
       "              'Y': 2.8432210286458333e-05},\n",
       "             (1, 1): {'M': 0.0003439670138888889,\n",
       "              'X': 0.00021158854166666667,\n",
       "              'Y': 0.00041259765625},\n",
       "             (1, 2): {'M': 0.003628472222222222,\n",
       "              'X': 0.0006770833333333334,\n",
       "              'Y': 0.0032161458333333334},\n",
       "             (1, 3): {'M': 0.014583333333333335, 'X': 0.040625, 'Y': 0.040625},\n",
       "             (1, 4): {'M': 0.008333333333333333, 'X': 0.00625, 'Y': 0.0},\n",
       "             (1, 5): {'M': 0, 'X': 0, 'Y': 0},\n",
       "             (2, 0): {'M': 2.0345052083333333e-06,\n",
       "              'X': 0.0,\n",
       "              'Y': 1.52587890625e-06},\n",
       "             (2, 1): {'M': 3.255208333333333e-05,\n",
       "              'X': 0.0,\n",
       "              'Y': 2.44140625e-05},\n",
       "             (2, 2): {'M': 0.0005208333333333333, 'X': 0.0, 'Y': 0.000390625},\n",
       "             (2, 3): {'M': 0.008333333333333333, 'X': 0.0, 'Y': 0.00625},\n",
       "             (2, 4): {'M': 0.1, 'X': 0.1, 'Y': 0.1},\n",
       "             (2, 5): {'M': 0, 'X': 0, 'Y': 0},\n",
       "             (3, 0): {'M': 0, 'X': 0, 'Y': 0},\n",
       "             (3, 1): {'M': 0, 'X': 0, 'Y': 0},\n",
       "             (3, 2): {'M': 0, 'X': 0, 'Y': 0},\n",
       "             (3, 3): {'M': 0, 'X': 0, 'Y': 0},\n",
       "             (3, 4): {'M': 0, 'X': 0, 'Y': 0}})"
      ]
     },
     "execution_count": 22,
     "metadata": {},
     "output_type": "execute_result"
    }
   ],
   "source": [
    "betas"
   ]
  }
 ],
 "metadata": {
  "kernelspec": {
   "display_name": "Python 3",
   "language": "python",
   "name": "python3"
  },
  "language_info": {
   "codemirror_mode": {
    "name": "ipython",
    "version": 3
   },
   "file_extension": ".py",
   "mimetype": "text/x-python",
   "name": "python",
   "nbconvert_exporter": "python",
   "pygments_lexer": "ipython3",
   "version": "3.5.0+"
  }
 },
 "nbformat": 4,
 "nbformat_minor": 0
}
