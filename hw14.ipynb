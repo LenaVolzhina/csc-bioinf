{
 "cells": [
  {
   "cell_type": "markdown",
   "metadata": {},
   "source": [
    "# ДЗ № 14, Волжина Лена\n",
    "\n",
    "Реализуйте алгоритм Forward-Backward для выравнивания двух последовательностей. [Задание](https://compscicenter.ru/learning/assignments/27582/)"
   ]
  },
  {
   "cell_type": "code",
   "execution_count": 1,
   "metadata": {
    "collapsed": false
   },
   "outputs": [],
   "source": [
    "from collections import defaultdict\n",
    "from itertools import product\n"
   ]
  },
  {
   "cell_type": "markdown",
   "metadata": {},
   "source": [
    "![FB_alignment](hw14_algo.png)"
   ]
  },
  {
   "cell_type": "code",
   "execution_count": 31,
   "metadata": {
    "collapsed": true
   },
   "outputs": [],
   "source": [
    "d = d1 = d2 = 1 / 3  # can start from any point\n",
    "r1 = r2 = 0  # no different gaps in row\n",
    "t = 0.2  # has it some meaning?\n",
    "e = e1 = e2 = 1 / 4"
   ]
  },
  {
   "cell_type": "code",
   "execution_count": 32,
   "metadata": {
    "collapsed": false
   },
   "outputs": [],
   "source": [
    "transitions = {\n",
    "    'M': {'X': d1, 'Y': d2, 'M': 1 - d1 - d2 - t, 'E': t},\n",
    "    'X': {'X': e1, 'Y': r2, 'M': 1 - e1 - r2 - t, 'E': t},\n",
    "    'Y': {'X': r1, 'Y': e2, 'M': 1 - e2 - r1 - t, 'E': t},\n",
    "    'E': {'X': 0,  'Y': 0,  'M': 0, 'E': 0},\n",
    "}\n",
    "pi = {'X': d1, 'Y': d2, 'M': 1 - d1 - d2}\n",
    "\n",
    "chars = 'ATGC'\n",
    "alpha = 1/8      # probability of some mismatch\n",
    "pam = {(c1, c2): 1 - alpha * (len(chars) - 1) if c1 == c2 else alpha   # match or mismatch\n",
    "       for c1 in chars for c2 in chars}\n",
    "gaps = {c: 1 / len(chars) for c in chars}\n",
    "\n",
    "s1, s2 = 'AGA', 'AGAGA'"
   ]
  },
  {
   "cell_type": "code",
   "execution_count": null,
   "metadata": {
    "collapsed": true
   },
   "outputs": [],
   "source": []
  },
  {
   "cell_type": "code",
   "execution_count": 60,
   "metadata": {
    "collapsed": false
   },
   "outputs": [],
   "source": [
    "class FBAligner(object):\n",
    "    def __init__(self, transition, match, gap):\n",
    "        self.transition = transition\n",
    "        self.match = match\n",
    "        self.gap = gap\n",
    "        self.states = ['M', 'X', 'Y']\n",
    "\n",
    "    def get_params(self, s1, s2, i, j):\n",
    "        get_or_None = lambda xs, idx: xs[idx] if len(xs) > idx >= 0 else None\n",
    "        c1, c2 = get_or_None(s1, i - 1), get_or_None(s2, j - 1)\n",
    "        pij = self.match.get((c1, c2), 1)\n",
    "        qi, qj = self.gap.get(c1, 1), self.gap.get(c2, 1)\n",
    "        \n",
    "        if c1 is None or c2 is None:\n",
    "            print('params None', i, j)\n",
    "        return pij, qi, qj\n",
    "        \n",
    "    def calculate_alphas(self, s1, s2):\n",
    "        alphas = defaultdict(dict)\n",
    "        n, m = len(s1), len(s2)\n",
    "        \n",
    "        # init alphas\n",
    "        alphas[(0, 0)] = {'M': 1, 'X': 0, 'Y': 0}\n",
    "        for i in range(n + 1): \n",
    "            alphas[(i, -1)] = {state: 0 for state in self.states}\n",
    "        for j in range(m + 1): \n",
    "            alphas[(-1, j)] = {state: 0 for state in self.states}\n",
    "        \n",
    "        def process(i, j):\n",
    "            print(i, j)\n",
    "            pij, qi, qj = self.get_params(s1, s2, i, j)\n",
    "            \n",
    "            #print((i - 1, j - 1), alphas[(i - 1, j - 1)])\n",
    "            #print((i - 1, j), alphas[(i - 1, j)])\n",
    "            #print((i, j - 1), alphas[(i, j - 1)])\n",
    "            alphas[(i, j)] = {\n",
    "                'M': pij * ((1 - 2 * d - t) * alphas[(i - 1, j - 1)]['M'] + \n",
    "                            (1 - e - t) * (alphas[(i - 1, j - 1)]['X'] + \n",
    "                                           alphas[(i - 1, j - 1)]['Y'])),\n",
    "                'X': qi * (d * alphas[(i - 1, j)]['M'] + e * alphas[(i - 1, j)]['X']),\n",
    "                'Y': qj * (d * alphas[(i, j - 1)]['M'] + e * alphas[(i, j - 1)]['Y']) #???\n",
    "            }\n",
    "            \n",
    "            if i == 0 and j == 2:\n",
    "                print(i, j, alphas[(i, j)])\n",
    "        \n",
    "        # calculate alphas\n",
    "        for k in range(min(n, m) + 1):\n",
    "            print('alphas, k=', k)\n",
    "            if k != 0:\n",
    "                process(k, k)\n",
    "            for n_row in range(k + 1, n + 1):\n",
    "                process(n_row, k)\n",
    "            for n_col in range(k + 1, m + 1):\n",
    "                process(k, n_col)            \n",
    "        \n",
    "        return alphas\n",
    "       \n",
    "    def calculate_betas(self, s1, s2):\n",
    "        betas = defaultdict(dict)\n",
    "        n, m = len(s1), len(s2)\n",
    "        \n",
    "        # init betas\n",
    "        betas[(n, m)] = {state: t for state in self.states}\n",
    "        for i in range(n + 1): \n",
    "            betas[(i, m + 1)] = {state: 0 for state in self.states}\n",
    "        for j in range(m + 1): \n",
    "            betas[(n + 1, j)] = {state: 0 for state in self.states}\n",
    "            \n",
    "        def process(i, j):\n",
    "            print(i, j)\n",
    "            pij, qi, qj = self.get_params(s1, s2, i + 1, j + 1)\n",
    "            \n",
    "            print((i + 1, j + 1), betas[(i + 1, j + 1)])\n",
    "            print((i + 1, j), betas[(i + 1, j)])\n",
    "            print((i, j + 1), betas[(i, j + 1)])\n",
    "            \n",
    "            betas[(i, j)] = {\n",
    "                'M': ((1 - 2 * d - t) * pij * betas[(i + 1, j + 1)]['M'] +\n",
    "                      d * (qi * betas[(i + 1, j)]['X'] + qj * betas[(i, j + 1)]['Y'])),\n",
    "                'X': ((1 - e - t) * pij * betas[(i + 1, j + 1)]['M'] +\n",
    "                      e * qi * betas[(i + 1, j)]['X']),\n",
    "                'Y': ((1 - e - t) * pij * betas[(i + 1, j + 1)]['M'] +\n",
    "                      e * qj * betas[(i, j + 1)]['Y']),\n",
    "            }\n",
    "        \n",
    "        # calculate betas\n",
    "        for k in range(min(n, m) + 1):\n",
    "            print('betas, k=', k)\n",
    "            if k != 0:\n",
    "                process(n - k, m - k)\n",
    "            for n_row in reversed(range(n - k)):\n",
    "                process(n_row, m - k)\n",
    "            for n_col in reversed(range(m - k)):\n",
    "                process(n - k, n_col)\n",
    "        return betas\n",
    "        \n",
    "    def process(self, s1, s2):\n",
    "        n, m = len(s1), len(s2)\n",
    "        alphas = self.calculate_alphas(s1, s2)\n",
    "        betas = self.calculate_betas(s1, s2)\n",
    "        \n",
    "        # calculate alignment probabilities\n",
    "        p_sum_fwd = sum(alphas[(n - 1, m - 1)].values()) * t\n",
    "        p_sum_bwd = 0\n",
    "        c1, c2 = s1[0], s2[0]\n",
    "        pij = self.match[(c1, c2)]\n",
    "        qi, qj = self.gap[c1], self.gap[c2]\n",
    "        for state in self.states:\n",
    "            p_open = pij if state == 'M' else (qi if state == 'X' else qj)\n",
    "            p_sum_bwd += betas[(0, 0)][state] * (1 / 3) * p_open\n",
    "        \n",
    "        print(p_sum_fwd, p_sum_bwd)\n",
    "        \n",
    "        # calculate result\n",
    "        result = []\n",
    "        for i in range(n):\n",
    "            row = [alphas[(i, j)]['M'] * betas[(i, j)]['M'] / p_sum_fwd\n",
    "                   for j in range(m)]\n",
    "            result.append(row)\n",
    "            \n",
    "        return result"
   ]
  },
  {
   "cell_type": "code",
   "execution_count": 61,
   "metadata": {
    "collapsed": false
   },
   "outputs": [
    {
     "name": "stdout",
     "output_type": "stream",
     "text": [
      "alphas, k= 0\n",
      "1 0\n",
      "params None 1 0\n",
      "2 0\n",
      "params None 2 0\n",
      "3 0\n",
      "params None 3 0\n",
      "0 1\n",
      "params None 0 1\n",
      "0 2\n",
      "params None 0 2\n",
      "0 2 {'Y': 0.005208333333333333, 'M': 0.0, 'X': 0.0}\n",
      "0 3\n",
      "params None 0 3\n",
      "0 4\n",
      "params None 0 4\n",
      "0 5\n",
      "params None 0 5\n",
      "alphas, k= 1\n",
      "1 1\n",
      "2 1\n",
      "3 1\n",
      "1 2\n",
      "1 3\n",
      "1 4\n",
      "1 5\n",
      "alphas, k= 2\n",
      "2 2\n",
      "3 2\n",
      "2 3\n",
      "2 4\n",
      "2 5\n",
      "alphas, k= 3\n",
      "3 3\n",
      "3 4\n",
      "3 5\n",
      "betas, k= 0\n",
      "2 5\n",
      "params None 3 6\n",
      "(3, 6) {}\n",
      "(3, 5) {'Y': 0, 'M': 0, 'X': 0}\n",
      "(2, 6) {}\n"
     ]
    },
    {
     "ename": "KeyError",
     "evalue": "'M'",
     "output_type": "error",
     "traceback": [
      "\u001b[1;31m---------------------------------------------------------------------------\u001b[0m",
      "\u001b[1;31mKeyError\u001b[0m                                  Traceback (most recent call last)",
      "\u001b[1;32m<ipython-input-61-1641475f5fb8>\u001b[0m in \u001b[0;36m<module>\u001b[1;34m()\u001b[0m\n\u001b[0;32m      1\u001b[0m \u001b[0maligner\u001b[0m \u001b[1;33m=\u001b[0m \u001b[0mFBAligner\u001b[0m\u001b[1;33m(\u001b[0m\u001b[0mtransitions\u001b[0m\u001b[1;33m,\u001b[0m \u001b[0mpam\u001b[0m\u001b[1;33m,\u001b[0m \u001b[0mgaps\u001b[0m\u001b[1;33m)\u001b[0m\u001b[1;33m\u001b[0m\u001b[0m\n\u001b[1;32m----> 2\u001b[1;33m \u001b[0malphas\u001b[0m\u001b[1;33m,\u001b[0m \u001b[0mbetas\u001b[0m \u001b[1;33m=\u001b[0m \u001b[0maligner\u001b[0m\u001b[1;33m.\u001b[0m\u001b[0mcalculate_alphas\u001b[0m\u001b[1;33m(\u001b[0m\u001b[0ms1\u001b[0m\u001b[1;33m,\u001b[0m \u001b[0ms2\u001b[0m\u001b[1;33m)\u001b[0m\u001b[1;33m,\u001b[0m \u001b[0maligner\u001b[0m\u001b[1;33m.\u001b[0m\u001b[0mcalculate_betas\u001b[0m\u001b[1;33m(\u001b[0m\u001b[0ms1\u001b[0m\u001b[1;33m,\u001b[0m \u001b[0ms2\u001b[0m\u001b[1;33m)\u001b[0m\u001b[1;33m\u001b[0m\u001b[0m\n\u001b[0m\u001b[0;32m      3\u001b[0m \u001b[0mres\u001b[0m \u001b[1;33m=\u001b[0m \u001b[0maligner\u001b[0m\u001b[1;33m.\u001b[0m\u001b[0mprocess\u001b[0m\u001b[1;33m(\u001b[0m\u001b[0ms1\u001b[0m\u001b[1;33m,\u001b[0m \u001b[0ms2\u001b[0m\u001b[1;33m)\u001b[0m\u001b[1;33m\u001b[0m\u001b[0m\n\u001b[0;32m      4\u001b[0m \u001b[1;33m\u001b[0m\u001b[0m\n\u001b[0;32m      5\u001b[0m \u001b[0mprint\u001b[0m\u001b[1;33m(\u001b[0m\u001b[1;34m' '\u001b[0m \u001b[1;33m*\u001b[0m \u001b[1;36m8\u001b[0m \u001b[1;33m+\u001b[0m \u001b[1;33m(\u001b[0m\u001b[1;34m' '\u001b[0m \u001b[1;33m*\u001b[0m \u001b[1;36m9\u001b[0m\u001b[1;33m)\u001b[0m\u001b[1;33m.\u001b[0m\u001b[0mjoin\u001b[0m\u001b[1;33m(\u001b[0m\u001b[0ms2\u001b[0m\u001b[1;33m)\u001b[0m\u001b[1;33m)\u001b[0m\u001b[1;33m\u001b[0m\u001b[0m\n",
      "\u001b[1;32m<ipython-input-60-6e0214c72359>\u001b[0m in \u001b[0;36mcalculate_betas\u001b[1;34m(self, s1, s2)\u001b[0m\n\u001b[0;32m     91\u001b[0m                 \u001b[0mprocess\u001b[0m\u001b[1;33m(\u001b[0m\u001b[0mn\u001b[0m \u001b[1;33m-\u001b[0m \u001b[0mk\u001b[0m\u001b[1;33m,\u001b[0m \u001b[0mm\u001b[0m \u001b[1;33m-\u001b[0m \u001b[0mk\u001b[0m\u001b[1;33m)\u001b[0m\u001b[1;33m\u001b[0m\u001b[0m\n\u001b[0;32m     92\u001b[0m             \u001b[1;32mfor\u001b[0m \u001b[0mn_row\u001b[0m \u001b[1;32min\u001b[0m \u001b[0mreversed\u001b[0m\u001b[1;33m(\u001b[0m\u001b[0mrange\u001b[0m\u001b[1;33m(\u001b[0m\u001b[0mn\u001b[0m \u001b[1;33m-\u001b[0m \u001b[0mk\u001b[0m\u001b[1;33m)\u001b[0m\u001b[1;33m)\u001b[0m\u001b[1;33m:\u001b[0m\u001b[1;33m\u001b[0m\u001b[0m\n\u001b[1;32m---> 93\u001b[1;33m                 \u001b[0mprocess\u001b[0m\u001b[1;33m(\u001b[0m\u001b[0mn_row\u001b[0m\u001b[1;33m,\u001b[0m \u001b[0mm\u001b[0m \u001b[1;33m-\u001b[0m \u001b[0mk\u001b[0m\u001b[1;33m)\u001b[0m\u001b[1;33m\u001b[0m\u001b[0m\n\u001b[0m\u001b[0;32m     94\u001b[0m             \u001b[1;32mfor\u001b[0m \u001b[0mn_col\u001b[0m \u001b[1;32min\u001b[0m \u001b[0mreversed\u001b[0m\u001b[1;33m(\u001b[0m\u001b[0mrange\u001b[0m\u001b[1;33m(\u001b[0m\u001b[0mm\u001b[0m \u001b[1;33m-\u001b[0m \u001b[0mk\u001b[0m\u001b[1;33m)\u001b[0m\u001b[1;33m)\u001b[0m\u001b[1;33m:\u001b[0m\u001b[1;33m\u001b[0m\u001b[0m\n\u001b[0;32m     95\u001b[0m                 \u001b[0mprocess\u001b[0m\u001b[1;33m(\u001b[0m\u001b[0mn\u001b[0m \u001b[1;33m-\u001b[0m \u001b[0mk\u001b[0m\u001b[1;33m,\u001b[0m \u001b[0mn_col\u001b[0m\u001b[1;33m)\u001b[0m\u001b[1;33m\u001b[0m\u001b[0m\n",
      "\u001b[1;32m<ipython-input-60-6e0214c72359>\u001b[0m in \u001b[0;36mprocess\u001b[1;34m(i, j)\u001b[0m\n\u001b[0;32m     77\u001b[0m \u001b[1;33m\u001b[0m\u001b[0m\n\u001b[0;32m     78\u001b[0m             betas[(i, j)] = {\n\u001b[1;32m---> 79\u001b[1;33m                 'M': ((1 - 2 * d - t) * pij * betas[(i + 1, j + 1)]['M'] +\n\u001b[0m\u001b[0;32m     80\u001b[0m                       d * (qi * betas[(i + 1, j)]['X'] + qj * betas[(i, j + 1)]['Y'])),\n\u001b[0;32m     81\u001b[0m                 'X': ((1 - e - t) * pij * betas[(i + 1, j + 1)]['M'] +\n",
      "\u001b[1;31mKeyError\u001b[0m: 'M'"
     ]
    }
   ],
   "source": [
    "aligner = FBAligner(transitions, pam, gaps)\n",
    "alphas, betas = aligner.calculate_alphas(s1, s2), aligner.calculate_betas(s1, s2)\n",
    "res = aligner.process(s1, s2)\n",
    "\n",
    "print(' ' * 8 + (' ' * 9).join(s2))\n",
    "for i in range(len(s1)):\n",
    "    print(s1[i], end='    ')\n",
    "    print('    '.join('{:.4f}'.format(v) for v in res[i]))"
   ]
  },
  {
   "cell_type": "code",
   "execution_count": null,
   "metadata": {
    "collapsed": false
   },
   "outputs": [],
   "source": []
  },
  {
   "cell_type": "code",
   "execution_count": 43,
   "metadata": {
    "collapsed": false
   },
   "outputs": [
    {
     "name": "stdout",
     "output_type": "stream",
     "text": [
      "state X\n",
      "        A         G         A         G         A\n",
      "A    0.0000    0.0000    0.0000    0.0000    0.0000\n",
      "G    0.0833    0.0000    0.0000    0.0000    0.0000\n",
      "A    0.0052    0.0069    0.0005    0.0001    0.0000\n",
      "state M\n",
      "        A         G         A         G         A\n",
      "A    1.0000    0.0000    0.0000    0.0000    0.0000\n",
      "G    0.0000    0.0833    0.0057    0.0018    0.0000\n",
      "A    0.0000    0.0057    0.0069    0.0006    0.0005\n",
      "state Y\n",
      "        A         G         A         G         A\n",
      "A    0.0000    0.0833    0.0052    0.0003    0.0000\n",
      "G    0.0000    0.0000    0.0069    0.0009    0.0002\n",
      "A    0.0000    0.0000    0.0005    0.0006    0.0001\n"
     ]
    }
   ],
   "source": [
    "alphas\n",
    "for state in ['X', 'M', 'Y']:\n",
    "    print('state', state)\n",
    "    print(' ' * 8 + (' ' * 9).join(s2))\n",
    "    for i in range(len(s1)):\n",
    "        print(s1[i], end='    ')\n",
    "        print('    '.join('{:.4f}'.format(alphas[(i, j)][state]) for j in range(len(s2))))\n",
    "              "
   ]
  },
  {
   "cell_type": "code",
   "execution_count": 22,
   "metadata": {
    "collapsed": false
   },
   "outputs": [
    {
     "data": {
      "text/plain": [
       "defaultdict(dict,\n",
       "            {(0, 0): {'M': 0.00010602710865162035,\n",
       "              'X': 0.0001399019029405382,\n",
       "              'Y': 0.00018147023518880206},\n",
       "             (0, 1): {'M': 0.0006206958912037037,\n",
       "              'X': 0.0003080376519097222,\n",
       "              'Y': 0.0006677381727430555},\n",
       "             (0, 2): {'M': 0.0022395833333333334,\n",
       "              'X': 0.005966796875,\n",
       "              'Y': 0.005966796875},\n",
       "             (0, 3): {'M': 0.003628472222222222,\n",
       "              'X': 0.0032161458333333334,\n",
       "              'Y': 0.0006770833333333334},\n",
       "             (0, 4): {'M': 0.0005208333333333333, 'X': 0.000390625, 'Y': 0.0},\n",
       "             (0, 5): {'M': 0, 'X': 0, 'Y': 0},\n",
       "             (1, 0): {'M': 3.5332573784722216e-05,\n",
       "              'X': 2.6448567708333334e-06,\n",
       "              'Y': 2.8432210286458333e-05},\n",
       "             (1, 1): {'M': 0.0003439670138888889,\n",
       "              'X': 0.00021158854166666667,\n",
       "              'Y': 0.00041259765625},\n",
       "             (1, 2): {'M': 0.003628472222222222,\n",
       "              'X': 0.0006770833333333334,\n",
       "              'Y': 0.0032161458333333334},\n",
       "             (1, 3): {'M': 0.014583333333333335, 'X': 0.040625, 'Y': 0.040625},\n",
       "             (1, 4): {'M': 0.008333333333333333, 'X': 0.00625, 'Y': 0.0},\n",
       "             (1, 5): {'M': 0, 'X': 0, 'Y': 0},\n",
       "             (2, 0): {'M': 2.0345052083333333e-06,\n",
       "              'X': 0.0,\n",
       "              'Y': 1.52587890625e-06},\n",
       "             (2, 1): {'M': 3.255208333333333e-05,\n",
       "              'X': 0.0,\n",
       "              'Y': 2.44140625e-05},\n",
       "             (2, 2): {'M': 0.0005208333333333333, 'X': 0.0, 'Y': 0.000390625},\n",
       "             (2, 3): {'M': 0.008333333333333333, 'X': 0.0, 'Y': 0.00625},\n",
       "             (2, 4): {'M': 0.1, 'X': 0.1, 'Y': 0.1},\n",
       "             (2, 5): {'M': 0, 'X': 0, 'Y': 0},\n",
       "             (3, 0): {'M': 0, 'X': 0, 'Y': 0},\n",
       "             (3, 1): {'M': 0, 'X': 0, 'Y': 0},\n",
       "             (3, 2): {'M': 0, 'X': 0, 'Y': 0},\n",
       "             (3, 3): {'M': 0, 'X': 0, 'Y': 0},\n",
       "             (3, 4): {'M': 0, 'X': 0, 'Y': 0}})"
      ]
     },
     "execution_count": 22,
     "metadata": {},
     "output_type": "execute_result"
    }
   ],
   "source": [
    "betas"
   ]
  }
 ],
 "metadata": {
  "kernelspec": {
   "display_name": "Python 3",
   "language": "python",
   "name": "python3"
  },
  "language_info": {
   "codemirror_mode": {
    "name": "ipython",
    "version": 3
   },
   "file_extension": ".py",
   "mimetype": "text/x-python",
   "name": "python",
   "nbconvert_exporter": "python",
   "pygments_lexer": "ipython3",
   "version": "3.5.0+"
  }
 },
 "nbformat": 4,
 "nbformat_minor": 0
}
