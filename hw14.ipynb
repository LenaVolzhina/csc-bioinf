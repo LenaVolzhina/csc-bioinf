{
 "cells": [
  {
   "cell_type": "markdown",
   "metadata": {},
   "source": [
    "# ДЗ № 14, Волжина Лена\n",
    "\n",
    "Реализуйте алгоритм Forward-Backward для выравнивания двух последовательностей. [Задание](https://compscicenter.ru/learning/assignments/27582/)"
   ]
  },
  {
   "cell_type": "code",
   "execution_count": 1,
   "metadata": {
    "collapsed": false
   },
   "outputs": [],
   "source": [
    "from collections import defaultdict\n",
    "from itertools import product\n"
   ]
  },
  {
   "cell_type": "markdown",
   "metadata": {},
   "source": [
    "![FB_alignment](hw14_algo.png)"
   ]
  },
  {
   "cell_type": "code",
   "execution_count": 2,
   "metadata": {
    "collapsed": true
   },
   "outputs": [],
   "source": [
    "d = 0.1    # start of gap\n",
    "e = 0.3    # gap after gap\n",
    "t = 0.2    # has it some meaning?"
   ]
  },
  {
   "cell_type": "code",
   "execution_count": 18,
   "metadata": {
    "collapsed": false
   },
   "outputs": [],
   "source": [
    "chars = 'ATGC'\n",
    "match = {(c1, c2): 0.9 if c1 == c2 else 0.1\n",
    "       for c1 in chars for c2 in chars}\n",
    "gaps = {c: 1 for c in chars}\n",
    "\n",
    "s1, s2 = 'AGAGA', 'AGAGAGAC'"
   ]
  },
  {
   "cell_type": "code",
   "execution_count": null,
   "metadata": {
    "collapsed": true
   },
   "outputs": [],
   "source": []
  },
  {
   "cell_type": "code",
   "execution_count": 16,
   "metadata": {
    "collapsed": false
   },
   "outputs": [],
   "source": [
    "class FBAligner(object):\n",
    "    def __init__(self, match, gap):\n",
    "        self.match = match\n",
    "        self.gap = gap\n",
    "        self.states = ['M', 'X', 'Y']\n",
    "\n",
    "    def calculate_alphas(self, s1, s2):\n",
    "        alphas = defaultdict(dict)\n",
    "        n, m = len(s1), len(s2)\n",
    "        \n",
    "        # init alphas\n",
    "        alphas[(0, 0)] = {'M': 1, 'X': 0, 'Y': 0}\n",
    "        for i in range(n + 1):\n",
    "            alphas[(i, -1)] = {state: 0 for state in self.states}\n",
    "        for j in range(m + 1):\n",
    "            alphas[(-1, j)] = {state: 0 for state in self.states}\n",
    "        \n",
    "        def process(i, j):\n",
    "            alphas[(i, j)] = {\n",
    "                'X': d * alphas[(i - 1, j)].get('M', 0) + e * alphas[(i - 1, j)]['X'],\n",
    "                'Y': d * alphas[(i, j - 1)].get('M', 0) + e * alphas[(i, j - 1)]['Y'],\n",
    "            }\n",
    "            \n",
    "            if i * j != 0:\n",
    "                # can calculate (mis)match\n",
    "                c1, c2 = s1[i - 1], s2[j - 1]\n",
    "                pij = self.match[(c1, c2)]\n",
    "                \n",
    "                as_diag = alphas[(i - 1, j - 1)]\n",
    "                sources = ((1 - 2 * d - t) * as_diag.get('M', 0) +\n",
    "                           (1 - e - t) * (as_diag['X'] + as_diag['Y']))\n",
    "                alphas[(i, j)]['M'] = pij * sources\n",
    "        \n",
    "        # calculate alphas\n",
    "        for k in range(min(n, m) + 1):\n",
    "            if k != 0:\n",
    "                process(k, k)\n",
    "            for n_row in range(k + 1, n + 1):\n",
    "                process(n_row, k)\n",
    "            for n_col in range(k + 1, m + 1):\n",
    "                process(k, n_col)            \n",
    "        \n",
    "        return alphas\n",
    "\n",
    "    def calculate_betas(self, s1, s2):\n",
    "        betas = defaultdict(dict)\n",
    "        n, m = len(s1), len(s2)\n",
    "        \n",
    "        # init betas\n",
    "        betas[(n, m)] = {state: t for state in self.states}\n",
    "        for i in range(n + 1): \n",
    "            betas[(i, m + 1)] = {state: 0 for state in self.states}\n",
    "        for j in range(m + 1): \n",
    "            betas[(n + 1, j)] = {state: 0 for state in self.states}\n",
    "            \n",
    "        def process(i, j):\n",
    "            if i == n or j == m:\n",
    "                # no chars, no pij\n",
    "                betas[(i, j)] = {\n",
    "                    'M': d * (betas[(i + 1, j)]['X'] + betas[(i, j + 1)]['Y']),\n",
    "                    'X': e * betas[(i + 1, j)]['X'],\n",
    "                    'Y': e * betas[(i, j + 1)]['Y'],\n",
    "                }\n",
    "            else:\n",
    "                c1, c2 = s1[i], s2[j]   # next chars\n",
    "                pij = self.match[(c1, c2)]\n",
    "                betas[(i, j)] = {\n",
    "                    'M': ((1 - 2 * d - t) * pij * betas[(i + 1, j + 1)]['M'] +\n",
    "                          d * (betas[(i + 1, j)]['X'] + betas[(i, j + 1)]['Y'])),\n",
    "                    'X': ((1 - e - t) * pij * betas[(i + 1, j + 1)]['M'] +\n",
    "                          e * betas[(i + 1, j)]['X']),\n",
    "                    'Y': ((1 - e - t) * pij * betas[(i + 1, j + 1)]['M'] +\n",
    "                          e * betas[(i, j + 1)]['Y']),\n",
    "                }\n",
    "                \n",
    "        # calculate betas\n",
    "        for k in range(min(n, m) + 1):\n",
    "            #print('betas, k=', k)\n",
    "            if k != 0:\n",
    "                process(n - k, m - k)\n",
    "            for n_row in reversed(range(n - k)):\n",
    "                process(n_row, m - k)\n",
    "            for n_col in reversed(range(m - k)):\n",
    "                process(n - k, n_col)\n",
    "        return betas\n",
    "        \n",
    "    def process(self, s1, s2):\n",
    "        n, m = len(s1), len(s2)\n",
    "        alphas = self.calculate_alphas(s1, s2)\n",
    "        betas = self.calculate_betas(s1, s2)\n",
    "        \n",
    "        # calculate result\n",
    "        p_sum_fwd = sum(alphas[(n, m)].values()) * t\n",
    "        result = []\n",
    "        for i in range(1, n + 1):\n",
    "            row = [alphas[(i, j)]['M'] * betas[(i, j)]['M'] / p_sum_fwd\n",
    "                   for j in range(1, m + 1)]\n",
    "            result.append(row)\n",
    "            \n",
    "        return result"
   ]
  },
  {
   "cell_type": "code",
   "execution_count": 19,
   "metadata": {
    "collapsed": false
   },
   "outputs": [
    {
     "name": "stdout",
     "output_type": "stream",
     "text": [
      "        A         G         A         G         A         G         A         C\n",
      "A    0.8657    0.0050    0.1143    0.0008    0.0053    0.0000    0.0001    0.0000\n",
      "G    0.0018    0.7379    0.0053    0.2266    0.0011    0.0102    0.0001    0.0001\n",
      "A    0.0067    0.0017    0.6170    0.0054    0.3362    0.0017    0.0133    0.0008\n",
      "G    0.0001    0.0095    0.0017    0.5005    0.0065    0.4445    0.0081    0.0109\n",
      "A    0.0001    0.0001    0.0084    0.0023    0.3615    0.0143    0.5147    0.0869\n"
     ]
    }
   ],
   "source": [
    "aligner = FBAligner(match, gaps)\n",
    "alphas, betas = aligner.calculate_alphas(s1, s2), aligner.calculate_betas(s1, s2)\n",
    "res = aligner.process(s1, s2)\n",
    "\n",
    "print(' ' * 8 + (' ' * 9).join(s2))\n",
    "for i in range(len(s1)):\n",
    "    print(s1[i], end='    ')\n",
    "    print('    '.join('{:.4f}'.format(v) for v in res[i]))"
   ]
  },
  {
   "cell_type": "code",
   "execution_count": null,
   "metadata": {
    "collapsed": false
   },
   "outputs": [],
   "source": []
  },
  {
   "cell_type": "code",
   "execution_count": 6,
   "metadata": {
    "collapsed": false
   },
   "outputs": [
    {
     "name": "stdout",
     "output_type": "stream",
     "text": [
      "state X\n",
      "        A         G         A         G         A\n",
      "A    0.0000    0.0000    0.0000    0.0000    0.0000\n",
      "G    0.0540    0.0005    0.0013    0.0000    0.0001\n",
      "A    0.0167    0.0293    0.0007    0.0015    0.0001\n",
      "state M\n",
      "        A         G         A         G         A\n",
      "A    0.5400    0.0050    0.0135    0.0004    0.0012\n",
      "G    0.0050    0.2916    0.0030    0.0148    0.0003\n",
      "A    0.0135    0.0030    0.1579    0.0017    0.0121\n",
      "state Y\n",
      "        A         G         A         G         A\n",
      "A    0.0000    0.0540    0.0167    0.0064    0.0020\n",
      "G    0.0000    0.0005    0.0293    0.0091    0.0042\n",
      "A    0.0000    0.0013    0.0007    0.0160    0.0050\n"
     ]
    }
   ],
   "source": [
    "# print alphas\n",
    "for state in ['X', 'M', 'Y']:\n",
    "    print('state', state)\n",
    "    print(' ' * 8 + (' ' * 9).join(s2))\n",
    "    for i in range(1, len(s1) + 1):\n",
    "        print(s1[i - 1], end='    ')\n",
    "        print('    '.join('{:.4f}'.format(alphas[(i, j)][state]) \n",
    "                          for j in range(1, len(s2) + 1)))\n",
    "              "
   ]
  },
  {
   "cell_type": "code",
   "execution_count": 7,
   "metadata": {
    "collapsed": false
   },
   "outputs": [
    {
     "name": "stdout",
     "output_type": "stream",
     "text": [
      "state X\n",
      "        A         G         A         G         A\n",
      "A    0.0027    0.0013    0.0489    0.0280    0.0180\n",
      "G    0.0001    0.0027    0.0010    0.0900    0.0600\n",
      "A    0.0000    0.0000    0.0000    0.0000    0.2000\n",
      "state M\n",
      "        A         G         A         G         A\n",
      "A    0.0048    0.0058    0.0585    0.0102    0.0060\n",
      "G    0.0012    0.0060    0.0102    0.1080    0.0200\n",
      "A    0.0005    0.0018    0.0060    0.0200    0.2000\n",
      "state Y\n",
      "        A         G         A         G         A\n",
      "A    0.0073    0.0152    0.0489    0.0010    0.0000\n",
      "G    0.0034    0.0111    0.0280    0.0900    0.0000\n",
      "A    0.0016    0.0054    0.0180    0.0600    0.2000\n"
     ]
    }
   ],
   "source": [
    "# print betas\n",
    "for state in ['X', 'M', 'Y']:\n",
    "    print('state', state)\n",
    "    print(' ' * 8 + (' ' * 9).join(s2))\n",
    "    for i in range(1, len(s1) + 1):\n",
    "        print(s1[i - 1], end='    ')\n",
    "        print('    '.join('{:.4f}'.format(betas[(i, j)][state]) \n",
    "                          for j in range(1, len(s2) + 1)))\n",
    "              "
   ]
  }
 ],
 "metadata": {
  "kernelspec": {
   "display_name": "Python 3",
   "language": "python",
   "name": "python3"
  },
  "language_info": {
   "codemirror_mode": {
    "name": "ipython",
    "version": 3
   },
   "file_extension": ".py",
   "mimetype": "text/x-python",
   "name": "python",
   "nbconvert_exporter": "python",
   "pygments_lexer": "ipython3",
   "version": "3.5.0+"
  }
 },
 "nbformat": 4,
 "nbformat_minor": 0
}
