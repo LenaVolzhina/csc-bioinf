{
 "cells": [
  {
   "cell_type": "markdown",
   "metadata": {},
   "source": [
    "# ДЗ №9, Волжина Елена\n",
    "[(WU)PGMA](https://compscicenter.ru/learning/assignments/26343/)\n",
    "![Algorithm](hw09_algo.png)"
   ]
  },
  {
   "cell_type": "code",
   "execution_count": 1,
   "metadata": {
    "collapsed": true
   },
   "outputs": [],
   "source": [
    "from collections import defaultdict\n",
    "\n",
    "from ete3 import Tree, TreeStyle"
   ]
  },
  {
   "cell_type": "code",
   "execution_count": 2,
   "metadata": {
    "collapsed": true
   },
   "outputs": [],
   "source": [
    "class PGMTree(object):\n",
    "    def __init__(self, distances, is_weighted=True):\n",
    "        # self.dist = defaultdict(dict)\n",
    "        self.dist = defaultdict(dict)\n",
    "        \n",
    "        for node1 in distances:\n",
    "            for node2 in distances[node1]:\n",
    "                self.dist[node1][node2] = self.dist[node2][node1] = distances[node1][node2]\n",
    "        \n",
    "        self.nodes = set(node for node in self.dist)\n",
    "        self.is_weighted = is_weighted\n",
    "        self.cluster_size = {node: 1 for node in self.nodes}\n",
    "        self.inner_cluster_dist = {node: 0 for node in self.nodes}\n",
    "      \n",
    "    @property\n",
    "    def N(self):\n",
    "        return len(self.nodes)\n",
    "\n",
    "    def join_nodes(self, a, b):\n",
    "        d_a_b = self.dist[a][b]\n",
    "        d_u_a = d_a_b / 2 - self.inner_cluster_dist[a]\n",
    "        d_u_b = d_a_b / 2 - self.inner_cluster_dist[b]\n",
    "        u = '({}:{}, {}:{})'.format(a, d_u_a, b, d_u_b)\n",
    "        \n",
    "        self.nodes -= {a, b}\n",
    "        w_a, w_b = self.cluster_size[a], self.cluster_size[b]\n",
    "        for node in self.nodes:\n",
    "            d = (w_a * self.dist[a][node] + w_b * self.dist[b][node]) / (w_a + w_b)            \n",
    "            self.dist[node][u] = self.dist[u][node] = d\n",
    "        \n",
    "        self.nodes.add(u)\n",
    "        self.cluster_size[u] = 1 if self.is_weighted else (w_a + w_b)\n",
    "        self.inner_cluster_dist[u] = d_a_b / 2\n",
    "\n",
    "    def process_PGM_step(self):\n",
    "        assert self.N >= 2, 'Tree must have >= 2 nodes'\n",
    "        \n",
    "        # find (a, b) with minimum D(a, b)\n",
    "        min_a, min_b, min_dist = None, None, None\n",
    "        for a in self.nodes:\n",
    "            for b in self.nodes - {a}:\n",
    "                dist = self.dist[a][b]\n",
    "                if min_dist is None or dist < min_dist:\n",
    "                    min_a, min_b, min_dist = a, b, dist\n",
    "        \n",
    "        # join optimal neighbors\n",
    "        self.join_nodes(min_a, min_b)\n",
    "\n",
    "    def process_PGM(self):\n",
    "        while self.N >= 2:\n",
    "            self.process_PGM_step()\n",
    "        \n",
    "        a, = self.nodes        \n",
    "        return a + ';'\n",
    "        "
   ]
  },
  {
   "cell_type": "markdown",
   "metadata": {},
   "source": [
    "![Weighted](hw09_example_weighted.png \"Weighted\")          ![Unweighted](hw09_example_unweighted.png \"Unweighted\")"
   ]
  },
  {
   "cell_type": "code",
   "execution_count": 3,
   "metadata": {
    "collapsed": false
   },
   "outputs": [],
   "source": [
    "distances = defaultdict(dict, {\n",
    "        'K': {'L': 16, 'M': 16, 'N': 10},\n",
    "        'L': {'M':  8, 'N': 8},\n",
    "        'M': {'N': 4}\n",
    "    })\n",
    "\n",
    "tree_style = TreeStyle()\n",
    "tree_style.show_leaf_name = True\n",
    "tree_style.show_branch_length = True"
   ]
  },
  {
   "cell_type": "code",
   "execution_count": 4,
   "metadata": {
    "collapsed": false
   },
   "outputs": [
    {
     "name": "stdout",
     "output_type": "stream",
     "text": [
      "Weighted ((L:4.0, (N:2.0, M:2.0):2.0):3.25, K:7.25);\n"
     ]
    }
   ],
   "source": [
    "pgm_tree = PGMTree(distances, is_weighted=True)\n",
    "w_newick = pgm_tree.process_PGM()\n",
    "\n",
    "print(\"Weighted\", w_newick)\n",
    "Tree(w_newick).show(tree_style=tree_style)"
   ]
  },
  {
   "cell_type": "code",
   "execution_count": 5,
   "metadata": {
    "collapsed": false
   },
   "outputs": [
    {
     "name": "stdout",
     "output_type": "stream",
     "text": [
      "Unweighted ((L:4.0, (N:2.0, M:2.0):2.0):3.0, K:7.0);\n"
     ]
    }
   ],
   "source": [
    "pgm_tree = PGMTree(distances, is_weighted=False)\n",
    "uw_newick = pgm_tree.process_PGM()\n",
    "\n",
    "print(\"Unweighted\", uw_newick)\n",
    "Tree(uw_newick).show(tree_style=tree_style)"
   ]
  }
 ],
 "metadata": {
  "kernelspec": {
   "display_name": "Python 3",
   "language": "python",
   "name": "python3"
  },
  "language_info": {
   "codemirror_mode": {
    "name": "ipython",
    "version": 3
   },
   "file_extension": ".py",
   "mimetype": "text/x-python",
   "name": "python",
   "nbconvert_exporter": "python",
   "pygments_lexer": "ipython3",
   "version": "3.5.0+"
  }
 },
 "nbformat": 4,
 "nbformat_minor": 0
}
