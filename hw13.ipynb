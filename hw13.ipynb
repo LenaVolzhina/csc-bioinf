{
 "cells": [
  {
   "cell_type": "markdown",
   "metadata": {},
   "source": [
    "# ДЗ № 13, Волжина Лена\n",
    "\n",
    "Реализуйте алгоритмы Витерби и Forward-Backward для задачи о кривой монете. [Задание](https://compscicenter.ru/learning/assignments/27578/)"
   ]
  },
  {
   "cell_type": "markdown",
   "metadata": {},
   "source": [
    "![Viterbi](hw13_Viterbi.png)"
   ]
  },
  {
   "cell_type": "code",
   "execution_count": 1,
   "metadata": {
    "collapsed": false
   },
   "outputs": [],
   "source": [
    "from collections import defaultdict\n",
    "\n",
    "class Solver(object):\n",
    "    def __init__(self, a, pi, b):\n",
    "        self.a = a\n",
    "        self.b = b\n",
    "        self.pi = pi\n",
    "        self.states = self.a.keys()\n",
    "    \n",
    "    def process(self, open_states):\n",
    "        raise NotImplementedError"
   ]
  },
  {
   "cell_type": "code",
   "execution_count": 2,
   "metadata": {
    "collapsed": true
   },
   "outputs": [],
   "source": [
    "class ViterbiSolver(Solver):\n",
    "    def move_forward(self, open_states):\n",
    "        n_steps = len(open_states)\n",
    "        # [t][j] = [step][state]\n",
    "        deltas, sources = defaultdict(dict), defaultdict(dict)\n",
    "        \n",
    "        # init deltas:\n",
    "        for state in self.states:\n",
    "            deltas[0][state] = (self.pi[state] * self.b[state][open_states[0]])\n",
    "        \n",
    "        # process all the rest open states:\n",
    "        for step in range(1, n_steps):\n",
    "            open_state = open_states[step]\n",
    "            for state in self.states:\n",
    "                max_prob, max_source = None, None\n",
    "                for source in self.states:\n",
    "                    prob = (deltas[step - 1][source] * self.a[source][state] * \n",
    "                            self.b[state][open_state])\n",
    "                    if max_prob is None or max_prob < prob:\n",
    "                        max_prob, max_source = prob, source\n",
    "                deltas[step][state] = max_prob\n",
    "                sources[step][state] = max_source\n",
    "                \n",
    "        return deltas, sources\n",
    "                \n",
    "    def move_backward(self, deltas, sources):\n",
    "        n_steps = len(deltas.keys())\n",
    "        states = [max(self.states, key=deltas[n_steps - 1].get)]\n",
    "        for step in range(n_steps - 2, -1, -1):\n",
    "            state = sources[step + 1][states[-1]]\n",
    "            states.append(state)\n",
    "        return list(reversed(states))\n",
    "                \n",
    "    def process(self, open_states):\n",
    "        deltas, sources = self.move_forward(open_states)\n",
    "        states = self.move_backward(deltas, sources)\n",
    "        return states"
   ]
  },
  {
   "cell_type": "code",
   "execution_count": 3,
   "metadata": {
    "collapsed": false
   },
   "outputs": [
    {
     "name": "stdout",
     "output_type": "stream",
     "text": [
      "['+', '+', '+', '+', '+', '+', '-', '-', '-', '-', '-', '-']\n"
     ]
    }
   ],
   "source": [
    "a = {'+': {'+': 0.8, '-': 0.2}, '-': {'-': 0.7, '+': 0.3}}\n",
    "pi = {'+': 0.5, '-': 0.5}\n",
    "b = {'+': {0: 0.5, 1: 0.5}, '-': {0: 0.9, 1: 0.1}}    # 0 = орел, 1 = решка\n",
    "\n",
    "open_states = [0, 1, 0, 1, 0, 1, 0, 0, 0, 0, 0, 0]\n",
    "\n",
    "v_solver = ViterbiSolver(a, pi, b)\n",
    "print(v_solver.process(open_states))\n",
    "# v_solver.move_forward(open_states)"
   ]
  },
  {
   "cell_type": "code",
   "execution_count": 4,
   "metadata": {
    "collapsed": false
   },
   "outputs": [
    {
     "name": "stdout",
     "output_type": "stream",
     "text": [
      "Result: ['Healthy', 'Healthy', 'Fever']\n"
     ]
    }
   ],
   "source": [
    "# https://en.wikipedia.org/wiki/Viterbi_algorithm#Example\n",
    "states = ('Healthy', 'Fever')\n",
    "observations = ('normal', 'cold', 'dizzy')\n",
    "start_probability = {'Healthy': 0.6, 'Fever': 0.4}\n",
    "transition_probability = { \n",
    "    'Healthy' : {'Healthy': 0.7, 'Fever': 0.3},\n",
    "    'Fever' : {'Healthy': 0.4, 'Fever': 0.6}\n",
    "}\n",
    "emission_probability = {\n",
    "    'Healthy' : {'normal': 0.5, 'cold': 0.4, 'dizzy': 0.1},\n",
    "    'Fever' : {'normal': 0.1, 'cold': 0.3, 'dizzy': 0.6}\n",
    "}\n",
    "\n",
    "v_solver1 = ViterbiSolver(transition_probability, start_probability, emission_probability)\n",
    "print('Result:', v_solver1.process(observations))"
   ]
  },
  {
   "cell_type": "markdown",
   "metadata": {},
   "source": [
    "# Forward - Backward"
   ]
  },
  {
   "cell_type": "code",
   "execution_count": 5,
   "metadata": {
    "collapsed": true
   },
   "outputs": [],
   "source": [
    "class FBSolver(Solver):\n",
    "    def calculate_alphas_betas(self, open_states):\n",
    "        n_steps = len(open_states)\n",
    "        # [t][j] = [step][state]\n",
    "        alphas, betas = defaultdict(dict), defaultdict(dict)\n",
    "        \n",
    "        # init alphas\n",
    "        for state in self.states:\n",
    "            alphas[0][state] = (self.pi[state] * self.b[state][open_states[0]])\n",
    "    \n",
    "        # calculate alphas\n",
    "        for step in range(1, n_steps):\n",
    "            open_state = open_states[step]\n",
    "            for state in self.states:\n",
    "                open_prob = self.b[state][open_state]\n",
    "                prob = sum(alphas[step - 1][source] * self.a[source][state] * open_prob\n",
    "                           for source in self.states)\n",
    "                alphas[step][state] = prob\n",
    "        \n",
    "        # init betas\n",
    "        for state in self.states:\n",
    "            betas[n_steps - 1][state] = 1    # mmm....\n",
    "        \n",
    "        # calculate betas\n",
    "        for step in range(n_steps - 1, 0, -1):\n",
    "            open_state = open_states[step]         # ошибка в слайдах?\n",
    "            for state in self.states:\n",
    "                prob = sum(betas[step][dest] * self.a[state][dest] * self.b[dest][open_state]\n",
    "                           for dest in self.states)\n",
    "                betas[step - 1][state] = prob\n",
    "        \n",
    "        p_fwd = sum(alphas[n_steps - 1][state] for state in self.states)\n",
    "        p_bwd = sum(betas[0][state] * self.pi[state] * self.b[state][open_states[0]] for state in self.states)\n",
    "        print('forward & backward probabilities:', p_fwd, p_bwd)\n",
    "        return alphas, betas            \n",
    "    \n",
    "    def process(self, open_states):\n",
    "        n_steps = len(open_states)\n",
    "        alphas, betas = self.calculate_alphas_betas(open_states)\n",
    "        norm = sum(alphas[n_steps - 1].values())\n",
    "        result = []\n",
    "        for step in range(n_steps):\n",
    "            probs = {}\n",
    "            for state in self.states:\n",
    "                probs[state] = alphas[step][state] * betas[step][state] / norm\n",
    "            result.append(probs)\n",
    "        \n",
    "        return result\n",
    "        "
   ]
  },
  {
   "cell_type": "code",
   "execution_count": 6,
   "metadata": {
    "collapsed": false
   },
   "outputs": [
    {
     "name": "stdout",
     "output_type": "stream",
     "text": [
      "forward & backward probabilities: 0.0008441922410745069 0.0008441922410745069\n"
     ]
    },
    {
     "data": {
      "text/plain": [
       "[{'+': 0.5161240679753295, '-': 0.48387593202467044},\n",
       " {'+': 0.8241612517632608, '-': 0.17583874823673923},\n",
       " {'+': 0.7191711606834265, '-': 0.2808288393165738},\n",
       " {'+': 0.8707118848745355, '-': 0.12928811512546454},\n",
       " {'+': 0.7150299518329691, '-': 0.2849700481670309},\n",
       " {'+': 0.8147187864994426, '-': 0.18528121350055743},\n",
       " {'+': 0.47991863117211186, '-': 0.5200813688278881},\n",
       " {'+': 0.3346291711940826, '-': 0.6653708288059176},\n",
       " {'+': 0.2749522994077331, '-': 0.7250477005922669},\n",
       " {'+': 0.2582124217222917, '-': 0.7417875782777082},\n",
       " {'+': 0.2724386656062581, '-': 0.7275613343937419},\n",
       " {'+': 0.3278043761304334, '-': 0.6721956238695667}]"
      ]
     },
     "execution_count": 6,
     "metadata": {},
     "output_type": "execute_result"
    }
   ],
   "source": [
    "a = {'+': {'+': 0.8, '-': 0.2}, '-': {'-': 0.7, '+': 0.3}}\n",
    "pi = {'+': 0.5, '-': 0.5}\n",
    "b = {'+': {0: 0.5, 1: 0.5}, '-': {0: 0.9, 1: 0.1}}    # 0 = орел, 1 = решка\n",
    "\n",
    "open_states = [0, 1, 0, 1, 0, 1, 0, 0, 0, 0, 0, 0]\n",
    "\n",
    "fb_solver = FBSolver(a, pi, b)\n",
    "fb_solver.process(open_states)"
   ]
  },
  {
   "cell_type": "code",
   "execution_count": null,
   "metadata": {
    "collapsed": false
   },
   "outputs": [],
   "source": []
  },
  {
   "cell_type": "code",
   "execution_count": null,
   "metadata": {
    "collapsed": false
   },
   "outputs": [],
   "source": []
  }
 ],
 "metadata": {
  "kernelspec": {
   "display_name": "Python 3",
   "language": "python",
   "name": "python3"
  },
  "language_info": {
   "codemirror_mode": {
    "name": "ipython",
    "version": 3
   },
   "file_extension": ".py",
   "mimetype": "text/x-python",
   "name": "python",
   "nbconvert_exporter": "python",
   "pygments_lexer": "ipython3",
   "version": "3.5.0+"
  }
 },
 "nbformat": 4,
 "nbformat_minor": 0
}
