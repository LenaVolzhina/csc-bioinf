{
 "cells": [
  {
   "cell_type": "markdown",
   "metadata": {},
   "source": [
    "# ДЗ № 13, Волжина Лена\n",
    "\n",
    "Реализуйте алгоритмы Витерби и Forward-Backward для задачи о кривой монете. [Задание](https://compscicenter.ru/learning/assignments/27578/)"
   ]
  },
  {
   "cell_type": "markdown",
   "metadata": {},
   "source": [
    "![Viterbi](hw13_Viterbi.png)"
   ]
  },
  {
   "cell_type": "code",
   "execution_count": 1,
   "metadata": {
    "collapsed": false
   },
   "outputs": [],
   "source": [
    "from collections import defaultdict\n",
    "\n",
    "class Solver(object):\n",
    "    def __init__(self, a, pi, b):\n",
    "        self.a = a\n",
    "        self.b = b\n",
    "        self.pi = pi\n",
    "        self.states = self.a.keys()\n",
    "    \n",
    "    def process(self, open_states):\n",
    "        raise NotImplementedError"
   ]
  },
  {
   "cell_type": "code",
   "execution_count": 2,
   "metadata": {
    "collapsed": true
   },
   "outputs": [],
   "source": [
    "class ViterbiSolver(Solver):\n",
    "    def move_forward(self, open_states):\n",
    "        n_steps = len(open_states)\n",
    "        # [t][j] = [step][state]\n",
    "        deltas, sources = defaultdict(dict), defaultdict(dict)\n",
    "        \n",
    "        # init deltas:\n",
    "        for state in self.states:\n",
    "            deltas[0][state] = (self.pi[state] * self.b[state][open_states[0]])\n",
    "        \n",
    "        # process all the rest open states:\n",
    "        for step in range(1, n_steps):\n",
    "            open_state = open_states[step]\n",
    "            for state in self.states:\n",
    "                max_prob, max_source = None, None\n",
    "                for source in self.states:\n",
    "                    prob = (deltas[step - 1][source] * self.a[source][state] * \n",
    "                            self.b[state][open_state])\n",
    "                    if max_prob is None or max_prob < prob:\n",
    "                        max_prob, max_source = prob, source\n",
    "                deltas[step][state] = max_prob\n",
    "                sources[step][state] = max_source\n",
    "                \n",
    "        return deltas, sources\n",
    "                \n",
    "    def move_backward(self, deltas, sources):\n",
    "        n_steps = len(deltas.keys())\n",
    "        states = [max(self.states, key=deltas[n_steps - 1].get)]\n",
    "        for step in range(n_steps - 2, -1, -1):\n",
    "            state = sources[step + 1][states[-1]]\n",
    "            states.append(state)\n",
    "        return list(reversed(states))\n",
    "                \n",
    "    def process(self, open_states):\n",
    "        deltas, sources = self.move_forward(open_states)\n",
    "        states = self.move_backward(deltas, sources)\n",
    "        return states"
   ]
  },
  {
   "cell_type": "code",
   "execution_count": 3,
   "metadata": {
    "collapsed": false
   },
   "outputs": [
    {
     "name": "stdout",
     "output_type": "stream",
     "text": [
      "['+', '+', '+', '+', '+', '+', '-', '-', '-', '-', '-', '-']\n"
     ]
    }
   ],
   "source": [
    "a = {'+': {'+': 0.8, '-': 0.2}, '-': {'-': 0.7, '+': 0.3}}\n",
    "pi = {'+': 0.5, '-': 0.5}\n",
    "b = {'+': {0: 0.5, 1: 0.5}, '-': {0: 0.9, 1: 0.1}}    # 0 = орел, 1 = решка\n",
    "\n",
    "open_states = [0, 1, 0, 1, 0, 1, 0, 0, 0, 0, 0, 0]\n",
    "\n",
    "v_solver = ViterbiSolver(a, pi, b)\n",
    "print(v_solver.process(open_states))\n",
    "# v_solver.move_forward(open_states)"
   ]
  },
  {
   "cell_type": "code",
   "execution_count": 4,
   "metadata": {
    "collapsed": false
   },
   "outputs": [
    {
     "name": "stdout",
     "output_type": "stream",
     "text": [
      "Result: ['Healthy', 'Healthy', 'Fever']\n"
     ]
    }
   ],
   "source": [
    "# https://en.wikipedia.org/wiki/Viterbi_algorithm#Example\n",
    "states = ('Healthy', 'Fever')\n",
    "observations = ('normal', 'cold', 'dizzy')\n",
    "start_probability = {'Healthy': 0.6, 'Fever': 0.4}\n",
    "transition_probability = { \n",
    "    'Healthy' : {'Healthy': 0.7, 'Fever': 0.3},\n",
    "    'Fever' : {'Healthy': 0.4, 'Fever': 0.6}\n",
    "}\n",
    "emission_probability = {\n",
    "    'Healthy' : {'normal': 0.5, 'cold': 0.4, 'dizzy': 0.1},\n",
    "    'Fever' : {'normal': 0.1, 'cold': 0.3, 'dizzy': 0.6}\n",
    "}\n",
    "\n",
    "v_solver1 = ViterbiSolver(transition_probability, start_probability, emission_probability)\n",
    "print('Result:', v_solver1.process(observations))\n",
    "# v_solver1.move_forward(observations)"
   ]
  },
  {
   "cell_type": "markdown",
   "metadata": {},
   "source": [
    "# Forward - Backward"
   ]
  },
  {
   "cell_type": "code",
   "execution_count": 15,
   "metadata": {
    "collapsed": true
   },
   "outputs": [],
   "source": [
    "class FBSolver(Solver):\n",
    "    def calculate_alphas_betas(self, open_states):\n",
    "        n_steps = len(open_states)\n",
    "        # [t][j] = [step][state]\n",
    "        alphas, betas = defaultdict(dict), defaultdict(dict)\n",
    "        \n",
    "        # init alphas\n",
    "        for state in self.states:\n",
    "            alphas[0][state] = (self.pi[state] * self.b[state][open_states[0]])\n",
    "    \n",
    "        # calculate alphas\n",
    "        for step in range(1, n_steps):\n",
    "            open_state = open_states[step]\n",
    "            for state in self.states:\n",
    "                open_prob = self.b[state][open_state]\n",
    "                prob = sum(alphas[step - 1][source] * self.a[source][state] * open_prob\n",
    "                           for source in self.states)\n",
    "                alphas[step][state] = prob\n",
    "        \n",
    "        # init betas\n",
    "        for state in self.states:\n",
    "            betas[n_steps][state] = 1    # mmm....\n",
    "        \n",
    "        # calculate betas\n",
    "        for step in range(n_steps - 1, -1, -1):\n",
    "            open_state = open_states[step]         # ошибка в слайдах\n",
    "            for state in self.states:\n",
    "                open_prob = self.b[state][open_state]\n",
    "                prob = sum(betas[step + 1][dest] * self.a[state][dest] * open_prob #self.b[dest][open_state]\n",
    "                           for dest in self.states)\n",
    "                betas[step][state] = prob\n",
    "        \n",
    "        p_fwd = sum(alphas[len(open_states) - 1][state] for state in self.states)\n",
    "        p_bwd = sum(betas[0][state] * self.pi[state] for state in self.states)\n",
    "        print('probabilities:', p_fwd, p_bwd)\n",
    "        return alphas, betas            \n",
    "    \n",
    "    def process(self, open_states):\n",
    "        alphas, betas = self.calculate_alphas_betas(open_states)\n",
    "        norm = sum(alphas[len(open_states) - 1].values())\n",
    "        result = []\n",
    "        for step in range(len(open_states)):\n",
    "            probs = {}\n",
    "            for state in self.states:\n",
    "                probs[state] = alphas[step][state] * betas[step][state] / norm\n",
    "            result.append(probs)\n",
    "        \n",
    "        result = [{state: alphas[step][state] * betas[step][state] for state in self.states}\n",
    "                  for step in range(len(open_states))]\n",
    "        return result\n",
    "        "
   ]
  },
  {
   "cell_type": "code",
   "execution_count": 16,
   "metadata": {
    "collapsed": false
   },
   "outputs": [
    {
     "name": "stdout",
     "output_type": "stream",
     "text": [
      "probabilities: 0.0008441922410745069 0.000844192241074507\n",
      "[{'-': 0.00036763587671213014, '+': 0.0002178539668082923}, {'-': 1.4844170694170889e-05, '+': 0.00034787526706639904}, {'-': 0.00021336617449890994, '+': 0.00030355935692674804}, {'-': 1.0914402365206479e-05, '+': 0.0003675241087112211}, {'-': 0.00021651255324111243, '+': 0.0003018113687366355}, {'-': 1.5641296285403982e-05, '+': 0.0003438896391102336}, {'-': 0.00039514379066272104, '+': 0.00020257179239129743}, {'-': 0.0005055308020037426, '+': 0.00014124567497961871}, {'-': 0.0005508716789240136, '+': 0.00011605629891280154}, {'-': 0.0005635901862967409, '+': 0.00010899046148350855}, {'-': 0.0005527814700609106, '+': 0.00011499530383674762}, {'-': 0.0005107160971394333, '+': 0.00013836495545979058}] \n",
      " [0.0005854898435204225, 0.00036271943776056993, 0.0005169255314256579, 0.0003784385110764276, 0.000518323921977748, 0.00035953093539563757, 0.0005977155830540184, 0.0006467764769833614, 0.0006669279778368151, 0.0006725806477802495, 0.0006677767738976582, 0.0006490810525992238]\n",
      "probabilities: 0.0008441922410745069 0.000844192241074507\n"
     ]
    },
    {
     "data": {
      "text/plain": [
       "(defaultdict(dict,\n",
       "             {0: {'+': 0.25, '-': 0.45},\n",
       "              1: {'+': 0.1675, '-': 0.036500000000000005},\n",
       "              2: {'+': 0.07247500000000001, '-': 0.05314500000000001},\n",
       "              3: {'+': 0.03696175000000001, '-': 0.005169650000000001},\n",
       "              4: {'+': 0.015560147500000005, '-': 0.009909994500000003},\n",
       "              5: {'+': 0.0077105581750000025, '-': 0.0010049025650000004},\n",
       "              6: {'+': 0.003234958654750001, '-': 0.0020209890874500007},\n",
       "              7: {'+': 0.0015971318250175006, '-': 0.0018555156829485006},\n",
       "              8: {'+': 0.0009171800824492754, '-': 0.0014564586087607054},\n",
       "              9: {'+': 0.000585340824293816, '-': 0.001082661338360114},\n",
       "              10: {'+': 0.0003965355304715435, '-': 0.0007874379915397586},\n",
       "              11: {'+': 0.00027672991091958117, '-': 0.0005674623301549258}}),\n",
       " defaultdict(dict,\n",
       "             {0: {'+': 0.0008714158672331692, '-': 0.0008169686149158448},\n",
       "              1: {'+': 0.002076867266068054, '-': 0.00040668960805947637},\n",
       "              2: {'+': 0.004188469912752645, '-': 0.0040147930096699576},\n",
       "              3: {'+': 0.009943363306965202, '-': 0.00211124589966564},\n",
       "              4: {'+': 0.019396433660840002, '-': 0.021847898426292},\n",
       "              5: {'+': 0.044599837172, '-': 0.0155649879204},\n",
       "              6: {'+': 0.06261959240000001, '-': 0.19552000212},\n",
       "              7: {'+': 0.08843708000000002, '-': 0.272447604},\n",
       "              8: {'+': 0.12653600000000004, '-': 0.3782268},\n",
       "              9: {'+': 0.18620000000000003, '-': 0.52056},\n",
       "              10: {'+': 0.29000000000000004, '-': 0.7020000000000001},\n",
       "              11: {'+': 0.5, '-': 0.9},\n",
       "              12: {'+': 1, '-': 1}}))"
      ]
     },
     "execution_count": 16,
     "metadata": {},
     "output_type": "execute_result"
    }
   ],
   "source": [
    "a = {'+': {'+': 0.8, '-': 0.2}, '-': {'-': 0.7, '+': 0.3}}\n",
    "pi = {'+': 0.5, '-': 0.5}\n",
    "b = {'+': {0: 0.5, 1: 0.5}, '-': {0: 0.9, 1: 0.1}}    # 0 = орел, 1 = решка\n",
    "\n",
    "open_states = [0, 1, 0, 1, 0, 1, 0, 0, 0, 0, 0, 0]\n",
    "\n",
    "fb_solver = FBSolver(a, pi, b)\n",
    "#fb_solver.process(open_states)\n",
    "\n",
    "#fb_solver.calculate_alphas_betas(open_states)\n",
    "res = fb_solver.process(open_states)\n",
    "print(res, '\\n', [sum(r.values()) for r in res])\n",
    "fb_solver.calculate_alphas_betas(open_states)"
   ]
  },
  {
   "cell_type": "code",
   "execution_count": null,
   "metadata": {
    "collapsed": false
   },
   "outputs": [],
   "source": [
    "observations = ('normal', 'cold', 'dizzy')\n",
    " \n",
    "start_probability = {'Healthy': 0.6, 'Fever': 0.4}\n",
    " \n",
    "transition_probability = {\n",
    "   'Healthy' : {'Healthy': 0.69, 'Fever': 0.3, 'E': 0.01},\n",
    "   'Fever' : {'Healthy': 0.4, 'Fever': 0.59, 'E': 0.01},\n",
    "   }\n",
    " \n",
    "emission_probability = {\n",
    "   'Healthy' : {'normal': 0.5, 'cold': 0.4, 'dizzy': 0.1},\n",
    "   'Fever' : {'normal': 0.1, 'cold': 0.3, 'dizzy': 0.6},\n",
    "   }\n",
    "\n",
    "fb_solver_1 = FBSolver(transition_probability, start_probability, emission_probability)\n",
    "fb_solver_1.process(observations)"
   ]
  },
  {
   "cell_type": "code",
   "execution_count": null,
   "metadata": {
    "collapsed": false
   },
   "outputs": [],
   "source": [
    "fb_solver_1 = FBSolver(transition_probability, start_probability, emission_probability)\n",
    "fb_solver_1.calculate_alphas_betas(observations)\n"
   ]
  }
 ],
 "metadata": {
  "kernelspec": {
   "display_name": "Python 3",
   "language": "python",
   "name": "python3"
  },
  "language_info": {
   "codemirror_mode": {
    "name": "ipython",
    "version": 3
   },
   "file_extension": ".py",
   "mimetype": "text/x-python",
   "name": "python",
   "nbconvert_exporter": "python",
   "pygments_lexer": "ipython3",
   "version": "3.5.0+"
  }
 },
 "nbformat": 4,
 "nbformat_minor": 0
}
