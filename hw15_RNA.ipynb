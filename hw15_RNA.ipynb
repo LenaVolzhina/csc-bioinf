{
 "cells": [
  {
   "cell_type": "markdown",
   "metadata": {},
   "source": [
    "# ДЗ № 15, Волжина Лена\n",
    "\n",
    "Реализуйте алгоритм Нусинов для выравнивания РНК. [Задание](https://compscicenter.ru/learning/assignments/27973/)"
   ]
  },
  {
   "cell_type": "code",
   "execution_count": 1,
   "metadata": {
    "collapsed": true
   },
   "outputs": [],
   "source": [
    "from collections import defaultdict\n",
    "\n",
    "DEBUG = False\n",
    "pair = {'A': 'U', 'G': 'C', 'U': 'A', 'C': 'G'}"
   ]
  },
  {
   "cell_type": "markdown",
   "metadata": {},
   "source": [
    "![Algorithm](hw15_algo.png)"
   ]
  },
  {
   "cell_type": "code",
   "execution_count": 2,
   "metadata": {
    "collapsed": false
   },
   "outputs": [],
   "source": [
    "class Source(object):\n",
    "    def __init__(self, t, p1, p2=None):\n",
    "        self.type = t\n",
    "        self.value = (p1, p2) if p2 is not None else (p1, )\n",
    "    \n",
    "    def __repr__(self):\n",
    "        return '{} {}'.format(self.type, self.value)\n",
    "\n",
    "    \n",
    "def print_weigths(weights, s):\n",
    "    print(\"     \" + \"    \".join(s))\n",
    "    for i in range(len(s)):\n",
    "        print(s[i], end=\"    \")\n",
    "        print(\"    \".join(str(weights[i].get(j, ' ')) for j in range(len(s))))\n",
    "\n",
    "\n",
    "class NussinovAligner(object):\n",
    "    def __init__(self, min_loop_size=2):\n",
    "        self.min_loop_size = min_loop_size\n",
    "    \n",
    "    def move_forward(self, s):\n",
    "        n = len(s)\n",
    "        weights, sources = defaultdict(dict), defaultdict(dict)\n",
    "        \n",
    "        # fill several diagonals with zero\n",
    "        for diag in range(-1, self.min_loop_size):\n",
    "            for i in range(n - diag):\n",
    "                weights[i][i + diag] = 0\n",
    "        \n",
    "        def get_possible_sources(i, j):\n",
    "            result = [(weights[i + 1][j], Source('step', (i + 1, j))), \n",
    "                      (weights[i][j - 1], Source('step', (i, j - 1)))]\n",
    "            if s[i] == pair[s[j]]:\n",
    "                result.append((weights[i + 1][j - 1] + 1, Source('pair', (i + 1, j - 1))))\n",
    "            result.extend((weights[i][k] + weights[k + 1][j], Source('jumper', (i, k), (k + 1, j)))\n",
    "                          for k in range(i + 1, j))\n",
    "            return result\n",
    "        \n",
    "        # process rest diagonals\n",
    "        for diag in range(self.min_loop_size, n):\n",
    "            for i in range(n - diag):\n",
    "                j = i + diag\n",
    "                possible_sources = get_possible_sources(i, j)\n",
    "                \n",
    "                max_weight, max_source = max(possible_sources, key=lambda x: x[0])\n",
    "                weights[i][j], sources[i][j] = max_weight, max_source\n",
    "        \n",
    "        if DEBUG:\n",
    "            print_weigths(weights, s)\n",
    "        \n",
    "        return weights, sources\n",
    "    \n",
    "    def process(self, s):\n",
    "        weigths, sources = self.move_forward(s)\n",
    "        \n",
    "        pairs, coords = [], {(0, len(s) - 1)}\n",
    "        while coords:\n",
    "            i, j = coords.pop()\n",
    "            source = sources[i].get(j)\n",
    "            if source is None:\n",
    "                continue\n",
    "            \n",
    "            coords.update(source.value)\n",
    "            if source.type == 'pair':\n",
    "                pairs.append((i, j))\n",
    "            \n",
    "        return pairs\n",
    "            "
   ]
  },
  {
   "cell_type": "markdown",
   "metadata": {},
   "source": [
    "![Example](hw15_example.png)"
   ]
  },
  {
   "cell_type": "code",
   "execution_count": 7,
   "metadata": {
    "collapsed": false
   },
   "outputs": [
    {
     "name": "stdout",
     "output_type": "stream",
     "text": [
      "     A    A    A    C    A    U    G    A    G    G    A    U    U    A    C    C    C    A    U    G    U\n",
      "A    0    0    0    0    0    1    1    1    1    1    1    2    3    3    3    3    4    4    5    6    7\n",
      "A    0    0    0    0    0    1    1    1    1    1    1    2    3    3    3    3    4    4    5    6    7\n",
      "A         0    0    0    0    1    1    1    1    1    1    2    3    3    3    3    4    4    5    6    7\n",
      "C              0    0    0    0    1    1    1    1    1    2    2    2    2    3    3    4    5    6    6\n",
      "A                   0    0    0    0    0    0    0    1    2    2    2    2    2    3    4    5    5    5\n",
      "U                        0    0    0    0    0    0    1    1    1    2    2    2    3    4    4    4    4\n",
      "G                             0    0    0    0    0    0    1    1    1    2    2    3    3    3    3    4\n",
      "A                                  0    0    0    0    0    1    1    1    1    2    2    2    3    3    4\n",
      "G                                       0    0    0    0    0    0    0    1    2    2    2    2    3    3\n",
      "G                                            0    0    0    0    0    0    1    1    1    1    2    2    2\n",
      "A                                                 0    0    0    0    0    0    0    0    1    2    2    2\n",
      "U                                                      0    0    0    0    0    0    0    1    1    1    2\n",
      "U                                                           0    0    0    0    0    0    1    1    1    2\n",
      "A                                                                0    0    0    0    0    0    1    1    2\n",
      "C                                                                     0    0    0    0    0    0    1    1\n",
      "C                                                                          0    0    0    0    0    1    1\n",
      "C                                                                               0    0    0    0    1    1\n",
      "A                                                                                    0    0    0    0    1\n",
      "U                                                                                         0    0    0    0\n",
      "G                                                                                              0    0    0\n",
      "U                                                                                                   0    0\n",
      "3 21\n",
      "4 20\n",
      "5 19\n",
      "6 18\n",
      "7 17\n",
      "9 16\n",
      "10 15\n"
     ]
    }
   ],
   "source": [
    "DEBUG = True\n",
    "\n",
    "# s = \"ACCAAGGGUUGGAAC\"  # example for weights\n",
    "s = \"AAACAUGAGGAUUACCCAUGU\"\n",
    "aligner = NussinovAligner(min_loop_size=3)\n",
    "pairs = aligner.process(s)\n",
    "for i, j in pairs:\n",
    "    print(i + 1, j + 1)"
   ]
  },
  {
   "cell_type": "code",
   "execution_count": 4,
   "metadata": {
    "collapsed": false
   },
   "outputs": [
    {
     "data": {
      "text/plain": [
       "[(2, 20), (3, 19), (4, 18), (5, 17), (6, 16), (8, 15), (9, 14), (11, 13)]"
      ]
     },
     "execution_count": 4,
     "metadata": {},
     "output_type": "execute_result"
    }
   ],
   "source": [
    "pairs"
   ]
  },
  {
   "cell_type": "code",
   "execution_count": 5,
   "metadata": {
    "collapsed": false
   },
   "outputs": [
    {
     "ename": "NameError",
     "evalue": "name 'weights' is not defined",
     "output_type": "error",
     "traceback": [
      "\u001b[1;31m---------------------------------------------------------------------------\u001b[0m",
      "\u001b[1;31mNameError\u001b[0m                                 Traceback (most recent call last)",
      "\u001b[1;32m<ipython-input-5-0fb95115982b>\u001b[0m in \u001b[0;36m<module>\u001b[1;34m()\u001b[0m\n\u001b[1;32m----> 1\u001b[1;33m \u001b[0mprint_weigths\u001b[0m\u001b[1;33m(\u001b[0m\u001b[0mweights\u001b[0m\u001b[1;33m,\u001b[0m \u001b[0ms\u001b[0m\u001b[1;33m)\u001b[0m\u001b[1;33m\u001b[0m\u001b[0m\n\u001b[0m",
      "\u001b[1;31mNameError\u001b[0m: name 'weights' is not defined"
     ]
    }
   ],
   "source": [
    "print_weigths(weights, s)"
   ]
  }
 ],
 "metadata": {
  "kernelspec": {
   "display_name": "Python 3",
   "language": "python",
   "name": "python3"
  },
  "language_info": {
   "codemirror_mode": {
    "name": "ipython",
    "version": 3
   },
   "file_extension": ".py",
   "mimetype": "text/x-python",
   "name": "python",
   "nbconvert_exporter": "python",
   "pygments_lexer": "ipython3",
   "version": "3.5.0+"
  }
 },
 "nbformat": 4,
 "nbformat_minor": 0
}
