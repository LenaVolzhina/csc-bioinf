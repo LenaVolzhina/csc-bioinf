{
 "cells": [
  {
   "cell_type": "markdown",
   "metadata": {},
   "source": [
    "# ДЗ №2, Волжина Елена\n",
    "[Выравнивание последовательностей](https://compscicenter.ru/learning/assignments/24199/)\n"
   ]
  },
  {
   "cell_type": "markdown",
   "metadata": {},
   "source": [
    "Напишите программу, получающую на вход две последовательности, и выдающую их оптимальное выравнивание (имеющее максимальный вес).\n",
    "* Вес совпадения = 1.\n",
    "* Вес несовпадения = -m (задается вами).\n",
    "* Вес гэпа = -d (задается вами)."
   ]
  },
  {
   "cell_type": "code",
   "execution_count": 1,
   "metadata": {
    "collapsed": true
   },
   "outputs": [],
   "source": [
    "from collections import defaultdict\n",
    "\n",
    "M = 1    # mismatch\n",
    "D = 1    # gap\n",
    "string1, string2 = \"GATTACA\", \"GCATGCU\""
   ]
  },
  {
   "cell_type": "code",
   "execution_count": 2,
   "metadata": {
    "collapsed": true
   },
   "outputs": [],
   "source": [
    "def align(s1, s2):\n",
    "    assert s1 and s2, \"one of strings is empty!\"\n",
    "    \n",
    "    n, m = len(s1), len(s2)\n",
    "    sources = defaultdict(lambda: defaultdict(list))\n",
    "    weights = [[None for _ in range(m + 1)] for _ in range(n + 1)]\n",
    "    \n",
    "    # first row\n",
    "    for n_col in range(m + 1):\n",
    "        weights[0][n_col] = -n_col * D\n",
    "        sources[0][n_col] = [(0, n_col - 1)]\n",
    "        \n",
    "    # first column\n",
    "    for n_row in range(n + 1):\n",
    "        weights[n_row][0] = -n_row * D\n",
    "        sources[n_row][0] = [(n_row - 1, 0)]\n",
    "    \n",
    "    # dynamically fill the rest\n",
    "    def process(n_row, n_col):\n",
    "        matched = s1[n_row - 1] == s2[n_col - 1]\n",
    "        ways = [((n_row - 1, n_col - 1), 1 if matched else -M),  # (mis)match\n",
    "                ((n_row - 1, n_col), -D),   # move down\n",
    "                ((n_row, n_col - 1), -D)]   # move right\n",
    "        for (old_n_row, old_n_col), diff in ways:\n",
    "            prev_value = weights[old_n_row][old_n_col]\n",
    "            new_value = prev_value + diff\n",
    "            \n",
    "            if weights[n_row][n_col] is None or weights[n_row][n_col] < new_value:\n",
    "                weights[n_row][n_col] = new_value\n",
    "                sources[n_row][n_col] = [(old_n_row, old_n_col)]\n",
    "            elif weights[n_row][n_col] == new_value:\n",
    "                sources[n_row][n_col].append((old_n_row, old_n_col))\n",
    "    \n",
    "    for k in range(1, min(n, m) + 1):\n",
    "        process(k, k)\n",
    "        for n_row in range(k + 1, n + 1):\n",
    "            process(n_row, k)\n",
    "        for n_col in range(k + 1, m + 1):\n",
    "            process(k, n_col)\n",
    "        \n",
    "    return weights, sources"
   ]
  },
  {
   "cell_type": "code",
   "execution_count": 3,
   "metadata": {
    "collapsed": false
   },
   "outputs": [],
   "source": [
    "alignment_weights, alignment_sources = align(string1, string2)"
   ]
  },
  {
   "cell_type": "code",
   "execution_count": 4,
   "metadata": {
    "collapsed": false
   },
   "outputs": [
    {
     "name": "stdout",
     "output_type": "stream",
     "text": [
      "WEIGHTS MATRIX\n",
      "  0  -1  -2  -3  -4  -5  -6  -7\n",
      " -1   1   0  -1  -2  -3  -4  -5\n",
      " -2   0   0   1   0  -1  -2  -3\n",
      " -3  -1  -1   0   2   1   0  -1\n",
      " -4  -2  -2  -1   1   1   0  -1\n",
      " -5  -3  -3  -1   0   0   0  -1\n",
      " -6  -4  -2  -2  -1  -1   1   0\n",
      " -7  -5  -3  -1  -2  -2   0   0\n"
     ]
    }
   ],
   "source": [
    "print(\"WEIGHTS MATRIX\")\n",
    "print(\"\\n\".join(\" \".join(\"{: >3}\".format(x) for x in row) \n",
    "                for row in alignment_weights))"
   ]
  },
  {
   "cell_type": "code",
   "execution_count": 5,
   "metadata": {
    "collapsed": false
   },
   "outputs": [
    {
     "data": {
      "text/plain": [
       "[[(0, 0), (1, 1), (1, 2), (2, 3), (3, 3), (4, 4), (5, 5), (6, 6), (7, 7)],\n",
       " [(0, 0), (1, 1), (1, 2), (2, 3), (3, 4), (4, 4), (5, 5), (6, 6), (7, 7)],\n",
       " [(0, 0), (1, 1), (1, 2), (2, 3), (3, 4), (4, 5), (5, 5), (6, 6), (7, 7)]]"
      ]
     },
     "execution_count": 5,
     "metadata": {},
     "output_type": "execute_result"
    }
   ],
   "source": [
    "def restore_paths(sources, n_row, n_col):\n",
    "    if sources[n_row][n_col]:\n",
    "        result = []\n",
    "        for source in sources[n_row][n_col]:\n",
    "            paths = restore_paths(sources, *source)\n",
    "            result.extend([p + [(n_row, n_col)] for p in paths])\n",
    "        return result\n",
    "    else:\n",
    "        return [[]]\n",
    "\n",
    "\n",
    "alignment_paths = restore_paths(alignment_sources, len(string1), len(string2))\n",
    "alignment_paths"
   ]
  },
  {
   "cell_type": "code",
   "execution_count": 6,
   "metadata": {
    "collapsed": false
   },
   "outputs": [
    {
     "name": "stdout",
     "output_type": "stream",
     "text": [
      "['G', '-', 'A', 'T', 'T', 'A', 'C', 'A']\n",
      "['G', 'C', 'A', '-', 'T', 'G', 'C', 'U']\n",
      "\n",
      "\n",
      "['G', '-', 'A', 'T', 'T', 'A', 'C', 'A']\n",
      "['G', 'C', 'A', 'T', '-', 'G', 'C', 'U']\n",
      "\n",
      "\n",
      "['G', '-', 'A', 'T', 'T', 'A', 'C', 'A']\n",
      "['G', 'C', 'A', 'T', 'G', '-', 'C', 'U']\n",
      "\n",
      "\n"
     ]
    }
   ],
   "source": [
    "for path in alignment_paths:\n",
    "    res1, res2 = [], []\n",
    "    for (r1, c1), (r2, c2) in zip(path, path[1:]):\n",
    "        if r1 + 1 == r2 and c1 + 1 == c2:\n",
    "            # mis(match)\n",
    "            res1.append(string1[r2 - 1])\n",
    "            res2.append(string2[c2 - 1])\n",
    "        elif r1 + 1 == r2 and c1 == c2:\n",
    "            # down\n",
    "            res1.append(string1[r2 - 1])\n",
    "            res2.append(\"-\")\n",
    "        else:\n",
    "            # right\n",
    "            res1.append(\"-\")\n",
    "            res2.append(string2[c2 - 1])\n",
    "    print(res1, \"\\n\", res2, \"\\n\\n\", sep=\"\")"
   ]
  },
  {
   "cell_type": "code",
   "execution_count": null,
   "metadata": {
    "collapsed": true
   },
   "outputs": [],
   "source": []
  },
  {
   "cell_type": "code",
   "execution_count": null,
   "metadata": {
    "collapsed": false
   },
   "outputs": [],
   "source": []
  }
 ],
 "metadata": {
  "kernelspec": {
   "display_name": "Python 3",
   "language": "python",
   "name": "python3"
  },
  "language_info": {
   "codemirror_mode": {
    "name": "ipython",
    "version": 3
   },
   "file_extension": ".py",
   "mimetype": "text/x-python",
   "name": "python",
   "nbconvert_exporter": "python",
   "pygments_lexer": "ipython3",
   "version": "3.5.0+"
  }
 },
 "nbformat": 4,
 "nbformat_minor": 0
}
